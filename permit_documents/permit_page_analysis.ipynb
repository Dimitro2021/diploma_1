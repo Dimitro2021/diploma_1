{
 "cells": [
  {
   "cell_type": "code",
   "execution_count": 8,
   "id": "225aa665",
   "metadata": {},
   "outputs": [],
   "source": [
    "import pandas as pd\n",
    "from collections import defaultdict\n",
    "import plotly.express as px\n",
    "import ast\n",
    "import re"
   ]
  },
  {
   "cell_type": "code",
   "execution_count": 9,
   "id": "13b03cb8",
   "metadata": {},
   "outputs": [],
   "source": [
    "df_teps = pd.read_csv('tep_merged.csv', low_memory=False, sep=';')\n",
    "df_permits = pd.read_csv('permit_page_merged.csv',\n",
    "                         low_memory=False,\n",
    "                         sep=';')"
   ]
  },
  {
   "cell_type": "markdown",
   "id": "dea758fa",
   "metadata": {},
   "source": [
    "## Hypothesis"
   ]
  },
  {
   "cell_type": "markdown",
   "id": "b175f7a3",
   "metadata": {},
   "source": [
    "- Загальний аналіз\n",
    "\n",
    "[H1] Реальна вартість будівництва об’єктів за державні кошти більша ніж за приватні.\n",
    "\n",
    "[H2] У невеликих громадах будівництво аналогічних об'єктів обходиться дорожче в 2-3 рази.\n",
    ".\n",
    "[H4] Є об'єкти з підозріло коротким терміном реалізації (≤2 міс.) при високій вартості — можливі фіктивні проєкти.\n",
    "\n",
    "[H5] Ціна за м² знижується або зростає з більшою кількістю поверхів (аналіз економії масштабу).\n",
    "\n",
    "[H6] Об'єкти, що будуються “господарським способом”, мають системно нижчу вартість, ніж підрядні.\n",
    "\n",
    "[H7] У Києві/обласних центрах — вища ціна за м², ніж у райцентрах або сільській місцевості.\n",
    "\n",
    "[H8] Будівництво у прикордонних регіонах (Херсон, Суми, Чернігів) демонструє аномалії у вартості та темпах\n",
    "\n",
    "[H10] Кількість поверхів ≠ 1, але “загальна площа” дуже мала — можливе дроблення або помилки.\n",
    "\n",
    "[H11] Для об'єктів з ДКБС-кодом, що мають виробниче або енергетичне призначення — середня вартість суттєво відрізняється.\n",
    "\n",
    "[H12] Торгові приміщення (магазини) мають вартість м² близьку до житлових, але з коротшими термінами будівництва.\n",
    "\n",
    "[H13] Підозрілі об'єкти мають: високу вартість, короткий термін, багато “нулів” у ТЕП, нульову корисну площу або 0 поверхів.\n",
    "\n",
    "[H14] Найбільш аномальні об'єкти зустрічаються серед приватних замовників, а не держорганів.\n"
   ]
  },
  {
   "cell_type": "markdown",
   "id": "a7459278",
   "metadata": {},
   "source": [
    "## Cleaning tep"
   ]
  },
  {
   "cell_type": "code",
   "execution_count": 10,
   "id": "95047fe1",
   "metadata": {},
   "outputs": [
    {
     "data": {
      "text/html": [
       "<div>\n",
       "<style scoped>\n",
       "    .dataframe tbody tr th:only-of-type {\n",
       "        vertical-align: middle;\n",
       "    }\n",
       "\n",
       "    .dataframe tbody tr th {\n",
       "        vertical-align: top;\n",
       "    }\n",
       "\n",
       "    .dataframe thead th {\n",
       "        text-align: right;\n",
       "    }\n",
       "</style>\n",
       "<table border=\"1\" class=\"dataframe\">\n",
       "  <thead>\n",
       "    <tr style=\"text-align: right;\">\n",
       "      <th></th>\n",
       "      <th>Column</th>\n",
       "      <th>Non-Null %</th>\n",
       "    </tr>\n",
       "  </thead>\n",
       "  <tbody>\n",
       "    <tr>\n",
       "      <th>0</th>\n",
       "      <td>Назва об'єкта</td>\n",
       "      <td>100.00</td>\n",
       "    </tr>\n",
       "    <tr>\n",
       "      <th>1</th>\n",
       "      <td>Тип об'єкта</td>\n",
       "      <td>100.00</td>\n",
       "    </tr>\n",
       "    <tr>\n",
       "      <th>2</th>\n",
       "      <td>doc_id</td>\n",
       "      <td>100.00</td>\n",
       "    </tr>\n",
       "    <tr>\n",
       "      <th>3</th>\n",
       "      <td>Вид будівництва</td>\n",
       "      <td>99.99</td>\n",
       "    </tr>\n",
       "    <tr>\n",
       "      <th>4</th>\n",
       "      <td>Загальна площа приміщень, м2</td>\n",
       "      <td>92.95</td>\n",
       "    </tr>\n",
       "    <tr>\n",
       "      <th>5</th>\n",
       "      <td>Площа забудови, м2</td>\n",
       "      <td>88.16</td>\n",
       "    </tr>\n",
       "    <tr>\n",
       "      <th>6</th>\n",
       "      <td>Кількість поверхів, од</td>\n",
       "      <td>86.93</td>\n",
       "    </tr>\n",
       "    <tr>\n",
       "      <th>7</th>\n",
       "      <td>Загальна площа будівлі, м2</td>\n",
       "      <td>86.92</td>\n",
       "    </tr>\n",
       "    <tr>\n",
       "      <th>8</th>\n",
       "      <td>Код ДКБС</td>\n",
       "      <td>80.95</td>\n",
       "    </tr>\n",
       "    <tr>\n",
       "      <th>9</th>\n",
       "      <td>Житлова площа приміщень, м2</td>\n",
       "      <td>67.92</td>\n",
       "    </tr>\n",
       "    <tr>\n",
       "      <th>10</th>\n",
       "      <td>Літера</td>\n",
       "      <td>63.33</td>\n",
       "    </tr>\n",
       "    <tr>\n",
       "      <th>11</th>\n",
       "      <td>Кількість житлових кімнат, од</td>\n",
       "      <td>59.24</td>\n",
       "    </tr>\n",
       "    <tr>\n",
       "      <th>12</th>\n",
       "      <td>Нежитлова площа, м2</td>\n",
       "      <td>56.78</td>\n",
       "    </tr>\n",
       "    <tr>\n",
       "      <th>13</th>\n",
       "      <td>Рік початку будівництва</td>\n",
       "      <td>52.97</td>\n",
       "    </tr>\n",
       "    <tr>\n",
       "      <th>14</th>\n",
       "      <td>Рік завершення будівництва</td>\n",
       "      <td>52.97</td>\n",
       "    </tr>\n",
       "    <tr>\n",
       "      <th>15</th>\n",
       "      <td>Дата завершення будівництва</td>\n",
       "      <td>30.72</td>\n",
       "    </tr>\n",
       "    <tr>\n",
       "      <th>16</th>\n",
       "      <td>Дата початку будівництва</td>\n",
       "      <td>30.72</td>\n",
       "    </tr>\n",
       "    <tr>\n",
       "      <th>17</th>\n",
       "      <td>Кількість поверхів, од (примітка)</td>\n",
       "      <td>22.80</td>\n",
       "    </tr>\n",
       "    <tr>\n",
       "      <th>18</th>\n",
       "      <td>Гранична висота будівлі/споруди, м</td>\n",
       "      <td>19.17</td>\n",
       "    </tr>\n",
       "    <tr>\n",
       "      <th>19</th>\n",
       "      <td>Загальний будівельний об'єм, м3</td>\n",
       "      <td>17.57</td>\n",
       "    </tr>\n",
       "    <tr>\n",
       "      <th>20</th>\n",
       "      <td>Будівельний об`єм, м3</td>\n",
       "      <td>17.50</td>\n",
       "    </tr>\n",
       "    <tr>\n",
       "      <th>21</th>\n",
       "      <td>Тривалість будівництва, міс</td>\n",
       "      <td>17.02</td>\n",
       "    </tr>\n",
       "    <tr>\n",
       "      <th>22</th>\n",
       "      <td>Кількість надземних поверхів, од</td>\n",
       "      <td>16.05</td>\n",
       "    </tr>\n",
       "    <tr>\n",
       "      <th>23</th>\n",
       "      <td>Кількість підземних поверхів, од</td>\n",
       "      <td>16.00</td>\n",
       "    </tr>\n",
       "    <tr>\n",
       "      <th>24</th>\n",
       "      <td>Цокольний поверх, од</td>\n",
       "      <td>15.90</td>\n",
       "    </tr>\n",
       "    <tr>\n",
       "      <th>25</th>\n",
       "      <td>Корисна площа, м2</td>\n",
       "      <td>15.52</td>\n",
       "    </tr>\n",
       "    <tr>\n",
       "      <th>26</th>\n",
       "      <td>Висота будівлі, м</td>\n",
       "      <td>15.18</td>\n",
       "    </tr>\n",
       "    <tr>\n",
       "      <th>27</th>\n",
       "      <td>Площа приміщень(місць) загального користування...</td>\n",
       "      <td>15.16</td>\n",
       "    </tr>\n",
       "    <tr>\n",
       "      <th>28</th>\n",
       "      <td>Річна потреба в воді, тис.м3</td>\n",
       "      <td>14.34</td>\n",
       "    </tr>\n",
       "    <tr>\n",
       "      <th>29</th>\n",
       "      <td>Річна потреба в електроенергії, МВт·год</td>\n",
       "      <td>13.90</td>\n",
       "    </tr>\n",
       "    <tr>\n",
       "      <th>30</th>\n",
       "      <td>Тривалість експлуатації (Розрахунковий строк е...</td>\n",
       "      <td>13.77</td>\n",
       "    </tr>\n",
       "    <tr>\n",
       "      <th>31</th>\n",
       "      <td>Кількість створених робочих місць, од</td>\n",
       "      <td>13.75</td>\n",
       "    </tr>\n",
       "    <tr>\n",
       "      <th>32</th>\n",
       "      <td>Річна потреба в тепловій енергії (Гкал), Гкал/рік</td>\n",
       "      <td>13.30</td>\n",
       "    </tr>\n",
       "    <tr>\n",
       "      <th>33</th>\n",
       "      <td>Річна потреба в паливі, тис.т.</td>\n",
       "      <td>12.51</td>\n",
       "    </tr>\n",
       "    <tr>\n",
       "      <th>34</th>\n",
       "      <td>у тому числі (примітка)</td>\n",
       "      <td>10.62</td>\n",
       "    </tr>\n",
       "  </tbody>\n",
       "</table>\n",
       "</div>"
      ],
      "text/plain": [
       "                                               Column  Non-Null %\n",
       "0                                       Назва об'єкта      100.00\n",
       "1                                         Тип об'єкта      100.00\n",
       "2                                              doc_id      100.00\n",
       "3                                     Вид будівництва       99.99\n",
       "4                        Загальна площа приміщень, м2       92.95\n",
       "5                                  Площа забудови, м2       88.16\n",
       "6                              Кількість поверхів, од       86.93\n",
       "7                          Загальна площа будівлі, м2       86.92\n",
       "8                                            Код ДКБС       80.95\n",
       "9                         Житлова площа приміщень, м2       67.92\n",
       "10                                             Літера       63.33\n",
       "11                      Кількість житлових кімнат, од       59.24\n",
       "12                                Нежитлова площа, м2       56.78\n",
       "13                            Рік початку будівництва       52.97\n",
       "14                         Рік завершення будівництва       52.97\n",
       "15                        Дата завершення будівництва       30.72\n",
       "16                           Дата початку будівництва       30.72\n",
       "17                  Кількість поверхів, од (примітка)       22.80\n",
       "18                 Гранична висота будівлі/споруди, м       19.17\n",
       "19                    Загальний будівельний об'єм, м3       17.57\n",
       "20                              Будівельний об`єм, м3       17.50\n",
       "21                        Тривалість будівництва, міс       17.02\n",
       "22                   Кількість надземних поверхів, од       16.05\n",
       "23                   Кількість підземних поверхів, од       16.00\n",
       "24                               Цокольний поверх, од       15.90\n",
       "25                                  Корисна площа, м2       15.52\n",
       "26                                  Висота будівлі, м       15.18\n",
       "27  Площа приміщень(місць) загального користування...       15.16\n",
       "28                       Річна потреба в воді, тис.м3       14.34\n",
       "29            Річна потреба в електроенергії, МВт·год       13.90\n",
       "30  Тривалість експлуатації (Розрахунковий строк е...       13.77\n",
       "31              Кількість створених робочих місць, од       13.75\n",
       "32  Річна потреба в тепловій енергії (Гкал), Гкал/рік       13.30\n",
       "33                     Річна потреба в паливі, тис.т.       12.51\n",
       "34                            у тому числі (примітка)       10.62"
      ]
     },
     "execution_count": 10,
     "metadata": {},
     "output_type": "execute_result"
    }
   ],
   "source": [
    "# Calculate non-null percentage for each column\n",
    "percentages = {\n",
    "    col: round(df_teps[col].notna().sum() / df_teps.shape[0] * 100, 2)\n",
    "    for col in df_teps.columns\n",
    "}\n",
    "# Convert to DataFrame and sort\n",
    "percent_df = (\n",
    "    pd.DataFrame(percentages.items(), columns=[\"Column\", \"Non-Null %\"])\n",
    "    .sort_values(by=\"Non-Null %\", ascending=False)\n",
    "    .reset_index(drop=True)\n",
    ")\n",
    "percent_df.head(35)"
   ]
  },
  {
   "cell_type": "code",
   "execution_count": 11,
   "id": "55ad4f74",
   "metadata": {},
   "outputs": [
    {
     "data": {
      "text/html": [
       "<div>\n",
       "<style scoped>\n",
       "    .dataframe tbody tr th:only-of-type {\n",
       "        vertical-align: middle;\n",
       "    }\n",
       "\n",
       "    .dataframe tbody tr th {\n",
       "        vertical-align: top;\n",
       "    }\n",
       "\n",
       "    .dataframe thead th {\n",
       "        text-align: right;\n",
       "    }\n",
       "</style>\n",
       "<table border=\"1\" class=\"dataframe\">\n",
       "  <thead>\n",
       "    <tr style=\"text-align: right;\">\n",
       "      <th></th>\n",
       "      <th>площа</th>\n",
       "      <th>вартість</th>\n",
       "      <th>поверх</th>\n",
       "      <th>об'єм</th>\n",
       "      <th>висота</th>\n",
       "      <th>кошторис</th>\n",
       "      <th>вбудован</th>\n",
       "      <th>забудов</th>\n",
       "      <th>будівельн</th>\n",
       "      <th>житлова</th>\n",
       "      <th>нежитлова</th>\n",
       "      <th>приміщен</th>\n",
       "      <th>корисна</th>\n",
       "      <th>озеленення</th>\n",
       "      <th>даху</th>\n",
       "      <th>цоколь</th>\n",
       "      <th>тротуар</th>\n",
       "    </tr>\n",
       "  </thead>\n",
       "  <tbody>\n",
       "    <tr>\n",
       "      <th>0</th>\n",
       "      <td>Загальна площа приміщень, м2</td>\n",
       "      <td>Кошторисна вартість,, тис. грн</td>\n",
       "      <td>Кількість поверхів, од</td>\n",
       "      <td>Загальний будівельний об'єм, м3</td>\n",
       "      <td>Гранична висота будівлі/споруди, м</td>\n",
       "      <td>Кошторисна вартість,, тис. грн</td>\n",
       "      <td>Площа вбудованих нежитлових приміщень (вбудова...</td>\n",
       "      <td>Площа забудови, м2</td>\n",
       "      <td>Загальний будівельний об'єм, м3</td>\n",
       "      <td>Житлова площа приміщень, м2</td>\n",
       "      <td>Нежитлова площа, м2</td>\n",
       "      <td>Загальна площа приміщень, м2</td>\n",
       "      <td>Корисна площа, м2</td>\n",
       "      <td>Площа озеленення, м2</td>\n",
       "      <td>Площа покриття даху, м2</td>\n",
       "      <td>Цокольний поверх, од</td>\n",
       "      <td>Площа тротуарів, м2</td>\n",
       "    </tr>\n",
       "    <tr>\n",
       "      <th>1</th>\n",
       "      <td>Площа забудови, м2</td>\n",
       "      <td>Кошторисна вартість,, тис. грн (примітка)</td>\n",
       "      <td>Кількість поверхів, од (примітка)</td>\n",
       "      <td>Будівельний об'єм вище відм. 0.00, м3</td>\n",
       "      <td>Висота будівлі, м</td>\n",
       "      <td>Кошторисна вартість,, тис. грн (примітка)</td>\n",
       "      <td>Площа вбудованих нежитлових приміщень (вбудова...</td>\n",
       "      <td>Площа забудови, м2 (примітка)</td>\n",
       "      <td>Будівельний об`єм, м3</td>\n",
       "      <td>Нежитлова площа, м2</td>\n",
       "      <td>Нежитлова площа, м2 (примітка)</td>\n",
       "      <td>Житлова площа приміщень, м2</td>\n",
       "      <td>Корисна площа, м2 (примітка)</td>\n",
       "      <td>Загальна площа під зеленими насадженнями (озел...</td>\n",
       "      <td>Площа покриття даху, м2 (примітка)</td>\n",
       "      <td>Цокольний поверх, од (примітка)</td>\n",
       "      <td>Площа тротуару, м2</td>\n",
       "    </tr>\n",
       "  </tbody>\n",
       "</table>\n",
       "</div>"
      ],
      "text/plain": [
       "                          площа                                   вартість  \\\n",
       "0  Загальна площа приміщень, м2             Кошторисна вартість,, тис. грн   \n",
       "1            Площа забудови, м2  Кошторисна вартість,, тис. грн (примітка)   \n",
       "\n",
       "                              поверх                                  об'єм  \\\n",
       "0             Кількість поверхів, од        Загальний будівельний об'єм, м3   \n",
       "1  Кількість поверхів, од (примітка)  Будівельний об'єм вище відм. 0.00, м3   \n",
       "\n",
       "                               висота  \\\n",
       "0  Гранична висота будівлі/споруди, м   \n",
       "1                   Висота будівлі, м   \n",
       "\n",
       "                                    кошторис  \\\n",
       "0             Кошторисна вартість,, тис. грн   \n",
       "1  Кошторисна вартість,, тис. грн (примітка)   \n",
       "\n",
       "                                            вбудован  \\\n",
       "0  Площа вбудованих нежитлових приміщень (вбудова...   \n",
       "1  Площа вбудованих нежитлових приміщень (вбудова...   \n",
       "\n",
       "                         забудов                        будівельн  \\\n",
       "0             Площа забудови, м2  Загальний будівельний об'єм, м3   \n",
       "1  Площа забудови, м2 (примітка)            Будівельний об`єм, м3   \n",
       "\n",
       "                       житлова                       нежитлова  \\\n",
       "0  Житлова площа приміщень, м2             Нежитлова площа, м2   \n",
       "1          Нежитлова площа, м2  Нежитлова площа, м2 (примітка)   \n",
       "\n",
       "                       приміщен                       корисна  \\\n",
       "0  Загальна площа приміщень, м2             Корисна площа, м2   \n",
       "1   Житлова площа приміщень, м2  Корисна площа, м2 (примітка)   \n",
       "\n",
       "                                          озеленення  \\\n",
       "0                               Площа озеленення, м2   \n",
       "1  Загальна площа під зеленими насадженнями (озел...   \n",
       "\n",
       "                                 даху                           цоколь  \\\n",
       "0             Площа покриття даху, м2             Цокольний поверх, од   \n",
       "1  Площа покриття даху, м2 (примітка)  Цокольний поверх, од (примітка)   \n",
       "\n",
       "               тротуар  \n",
       "0  Площа тротуарів, м2  \n",
       "1   Площа тротуару, м2  "
      ]
     },
     "execution_count": 11,
     "metadata": {},
     "output_type": "execute_result"
    }
   ],
   "source": [
    "# Ключові слова для групування\n",
    "keywords = [\n",
    "    \"площа\", \"вартість\", \"поверх\", \"обʼєм\", \"об'єм\", \"висота\", \n",
    "    \"кошторис\", \"вбудован\", \"забудов\", \"будівельн\", \"житлова\", \n",
    "    \"нежитлова\", \"квартира\", \"приміщен\", \"будинок\", \"корисна\", \n",
    "    \"озеленення\", \"даху\", \"цоколь\", \"технічна\", \"тротуар\"\n",
    "]\n",
    "\n",
    "# Припустимо, що у тебе вже є DataFrame `percent_df` з колонкою \"Column\"\n",
    "percent_df[\"Column_lower\"] = percent_df[\"Column\"].str.lower()\n",
    "\n",
    "# Групування колонок за ключовими словами\n",
    "grouped_columns = defaultdict(list)\n",
    "for kw in keywords:\n",
    "    mask = percent_df[\"Column_lower\"].str.contains(kw)\n",
    "    matches = percent_df[mask][\"Column\"].tolist()\n",
    "    if matches:\n",
    "        grouped_columns[kw].extend(matches)\n",
    "\n",
    "# Перетворення словника на DataFrame для зручного перегляду\n",
    "grouped_df = pd.DataFrame(dict([(k, pd.Series(v)) for k, v in grouped_columns.items()]))\n",
    "\n",
    "# Вивід результату\n",
    "grouped_df.head(2)\n"
   ]
  },
  {
   "cell_type": "markdown",
   "id": "aac1bbf3",
   "metadata": {},
   "source": [
    "ШІ допоміг обробити ці дані"
   ]
  },
  {
   "cell_type": "code",
   "execution_count": 12,
   "id": "b772de01",
   "metadata": {},
   "outputs": [],
   "source": [
    "# Площа об'єкта\n",
    "total_area_cols = [\n",
    "    'Загальна площа приміщень, м2',\n",
    "    'Загальна площа будівлі, м2',\n",
    "    'Загальна площа, м2',\n",
    "    'Площа будинку, м2',\n",
    "    'Площа житлового будинку, м2',\n",
    "    'Площа квартир у будинку, м2'\n",
    "]\n",
    "\n",
    "# Житлова площа\n",
    "living_area_cols = [\n",
    "    'Житлова площа приміщень, м2',\n",
    "    'Житлова площа однокімнатних квартир, м2',\n",
    "    'Житлова площа двокімнатних квартир, м2',\n",
    "    'Житлова площа трикімнатних квартир, м2',\n",
    "    'Житлова площа чотирикімнатних квартир, м2',\n",
    "    'Житлова площа п’ятикімнатних квартир, м2',\n",
    "    'Житлова площа шестикімнатнатних квартир, м2',\n",
    "    'Житлова площа семикімнатних квартир, м2',\n",
    "    'Житлова площа восьмикімнатних і більше квартир, м2'\n",
    "]\n",
    "\n",
    "# Нежитлова площа\n",
    "nonresidential_area_cols = [\n",
    "    'Нежитлова площа, м2',\n",
    "    'Площа допоміжна нежитлова, м2',\n",
    "    'Площа інших нежитлових приміщень, м2'\n",
    "]\n",
    "\n",
    "# Площа забудови\n",
    "footprint_cols = [\n",
    "    'Площа забудови, м2',\n",
    "    'Площа основи (забудови), м2',\n",
    "    'Площа забудови , га'\n",
    "]\n",
    "\n",
    "# Кількість поверхів\n",
    "floor_cols = [\n",
    "    'Кількість поверхів, од',\n",
    "    'Поверховість, поверхів',\n",
    "    'Кількість надземних поверхів, од',\n",
    "]\n",
    "\n",
    "# Обʼєм будівлі\n",
    "volume_cols = [\n",
    "    'Загальний будівельний об\\'єм, м3',\n",
    "    'Об\\'єм будівлі, м3',\n",
    "    'Будівельний об\\'єм вище відм. 0.00, м3',\n",
    "    'Будівельний об\\'єм нижче відм. 0.00, м3'\n",
    "]\n",
    "\n",
    "# Висота\n",
    "height_cols = [\n",
    "    'Гранична висота будівлі/споруди, м',\n",
    "    'Висота будівлі, м',\n",
    "    'Висота, м'\n",
    "]\n",
    "\n",
    "# Вартість\n",
    "cost_cols = [\n",
    "    'Кошторисна вартість,, тис. грн',\n",
    "    'Вартість, тис. грн',\n",
    "    'Вартість основних фондів об’єкту будівництва, тис. грн'\n",
    "]\n"
   ]
  },
  {
   "cell_type": "markdown",
   "id": "e6bcead8",
   "metadata": {},
   "source": [
    "Аналізую дані по колонках"
   ]
  },
  {
   "cell_type": "code",
   "execution_count": 13,
   "id": "298681de",
   "metadata": {},
   "outputs": [
    {
     "data": {
      "text/html": [
       "<div>\n",
       "<style scoped>\n",
       "    .dataframe tbody tr th:only-of-type {\n",
       "        vertical-align: middle;\n",
       "    }\n",
       "\n",
       "    .dataframe tbody tr th {\n",
       "        vertical-align: top;\n",
       "    }\n",
       "\n",
       "    .dataframe thead th {\n",
       "        text-align: right;\n",
       "    }\n",
       "</style>\n",
       "<table border=\"1\" class=\"dataframe\">\n",
       "  <thead>\n",
       "    <tr style=\"text-align: right;\">\n",
       "      <th></th>\n",
       "      <th>Загальна площа приміщень, м2</th>\n",
       "      <th>Загальна площа будівлі, м2</th>\n",
       "      <th>Загальна площа, м2</th>\n",
       "      <th>Площа будинку, м2</th>\n",
       "      <th>Площа житлового будинку, м2</th>\n",
       "      <th>Площа квартир у будинку, м2</th>\n",
       "    </tr>\n",
       "  </thead>\n",
       "  <tbody>\n",
       "    <tr>\n",
       "      <th>29465</th>\n",
       "      <td>118.0</td>\n",
       "      <td>118.0</td>\n",
       "      <td>NaN</td>\n",
       "      <td>NaN</td>\n",
       "      <td>NaN</td>\n",
       "      <td>NaN</td>\n",
       "    </tr>\n",
       "    <tr>\n",
       "      <th>33194</th>\n",
       "      <td>295.6</td>\n",
       "      <td>295.6</td>\n",
       "      <td>NaN</td>\n",
       "      <td>NaN</td>\n",
       "      <td>NaN</td>\n",
       "      <td>NaN</td>\n",
       "    </tr>\n",
       "    <tr>\n",
       "      <th>10142</th>\n",
       "      <td>242.0</td>\n",
       "      <td>242.0</td>\n",
       "      <td>NaN</td>\n",
       "      <td>NaN</td>\n",
       "      <td>NaN</td>\n",
       "      <td>NaN</td>\n",
       "    </tr>\n",
       "    <tr>\n",
       "      <th>30128</th>\n",
       "      <td>18.1</td>\n",
       "      <td>18.1</td>\n",
       "      <td>NaN</td>\n",
       "      <td>NaN</td>\n",
       "      <td>NaN</td>\n",
       "      <td>NaN</td>\n",
       "    </tr>\n",
       "    <tr>\n",
       "      <th>18482</th>\n",
       "      <td>61.5</td>\n",
       "      <td>61.5</td>\n",
       "      <td>NaN</td>\n",
       "      <td>NaN</td>\n",
       "      <td>NaN</td>\n",
       "      <td>NaN</td>\n",
       "    </tr>\n",
       "    <tr>\n",
       "      <th>32443</th>\n",
       "      <td>30.7</td>\n",
       "      <td>NaN</td>\n",
       "      <td>36.3</td>\n",
       "      <td>NaN</td>\n",
       "      <td>NaN</td>\n",
       "      <td>NaN</td>\n",
       "    </tr>\n",
       "    <tr>\n",
       "      <th>18781</th>\n",
       "      <td>168.7</td>\n",
       "      <td>168.7</td>\n",
       "      <td>NaN</td>\n",
       "      <td>NaN</td>\n",
       "      <td>NaN</td>\n",
       "      <td>NaN</td>\n",
       "    </tr>\n",
       "    <tr>\n",
       "      <th>35315</th>\n",
       "      <td>178.4</td>\n",
       "      <td>178.4</td>\n",
       "      <td>NaN</td>\n",
       "      <td>NaN</td>\n",
       "      <td>NaN</td>\n",
       "      <td>NaN</td>\n",
       "    </tr>\n",
       "    <tr>\n",
       "      <th>19978</th>\n",
       "      <td>58.3</td>\n",
       "      <td>58.3</td>\n",
       "      <td>58.3</td>\n",
       "      <td>NaN</td>\n",
       "      <td>58.3</td>\n",
       "      <td>NaN</td>\n",
       "    </tr>\n",
       "    <tr>\n",
       "      <th>22697</th>\n",
       "      <td>118.9</td>\n",
       "      <td>118.9</td>\n",
       "      <td>NaN</td>\n",
       "      <td>NaN</td>\n",
       "      <td>NaN</td>\n",
       "      <td>NaN</td>\n",
       "    </tr>\n",
       "  </tbody>\n",
       "</table>\n",
       "</div>"
      ],
      "text/plain": [
       "       Загальна площа приміщень, м2 Загальна площа будівлі, м2  \\\n",
       "29465                         118.0                      118.0   \n",
       "33194                         295.6                      295.6   \n",
       "10142                         242.0                      242.0   \n",
       "30128                          18.1                       18.1   \n",
       "18482                          61.5                       61.5   \n",
       "32443                          30.7                        NaN   \n",
       "18781                         168.7                      168.7   \n",
       "35315                         178.4                      178.4   \n",
       "19978                          58.3                       58.3   \n",
       "22697                         118.9                      118.9   \n",
       "\n",
       "      Загальна площа, м2  Площа будинку, м2  Площа житлового будинку, м2  \\\n",
       "29465                NaN                NaN                          NaN   \n",
       "33194                NaN                NaN                          NaN   \n",
       "10142                NaN                NaN                          NaN   \n",
       "30128                NaN                NaN                          NaN   \n",
       "18482                NaN                NaN                          NaN   \n",
       "32443               36.3                NaN                          NaN   \n",
       "18781                NaN                NaN                          NaN   \n",
       "35315                NaN                NaN                          NaN   \n",
       "19978               58.3                NaN                         58.3   \n",
       "22697                NaN                NaN                          NaN   \n",
       "\n",
       "       Площа квартир у будинку, м2  \n",
       "29465                          NaN  \n",
       "33194                          NaN  \n",
       "10142                          NaN  \n",
       "30128                          NaN  \n",
       "18482                          NaN  \n",
       "32443                          NaN  \n",
       "18781                          NaN  \n",
       "35315                          NaN  \n",
       "19978                          NaN  \n",
       "22697                          NaN  "
      ]
     },
     "execution_count": 13,
     "metadata": {},
     "output_type": "execute_result"
    }
   ],
   "source": [
    "df_teps[total_area_cols].sample(10)"
   ]
  },
  {
   "cell_type": "markdown",
   "id": "1aa263a6",
   "metadata": {},
   "source": [
    "Створюю нові колонки для датафрейму та зменшую його"
   ]
  },
  {
   "cell_type": "code",
   "execution_count": 14,
   "id": "39bd9618",
   "metadata": {},
   "outputs": [
    {
     "name": "stderr",
     "output_type": "stream",
     "text": [
      "C:\\Users\\dimit\\AppData\\Local\\Temp\\ipykernel_29192\\104804955.py:3: FutureWarning: Downcasting object dtype arrays on .fillna, .ffill, .bfill is deprecated and will change in a future version. Call result.infer_objects(copy=False) instead. To opt-in to the future behavior, set `pd.set_option('future.no_silent_downcasting', True)`\n",
      "  return df[columns].bfill(axis=1).infer_objects(copy=False).iloc[:, 0]\n",
      "C:\\Users\\dimit\\AppData\\Local\\Temp\\ipykernel_29192\\104804955.py:3: FutureWarning: Downcasting object dtype arrays on .fillna, .ffill, .bfill is deprecated and will change in a future version. Call result.infer_objects(copy=False) instead. To opt-in to the future behavior, set `pd.set_option('future.no_silent_downcasting', True)`\n",
      "  return df[columns].bfill(axis=1).infer_objects(copy=False).iloc[:, 0]\n",
      "C:\\Users\\dimit\\AppData\\Local\\Temp\\ipykernel_29192\\104804955.py:3: FutureWarning: Downcasting object dtype arrays on .fillna, .ffill, .bfill is deprecated and will change in a future version. Call result.infer_objects(copy=False) instead. To opt-in to the future behavior, set `pd.set_option('future.no_silent_downcasting', True)`\n",
      "  return df[columns].bfill(axis=1).infer_objects(copy=False).iloc[:, 0]\n",
      "C:\\Users\\dimit\\AppData\\Local\\Temp\\ipykernel_29192\\104804955.py:3: FutureWarning: Downcasting object dtype arrays on .fillna, .ffill, .bfill is deprecated and will change in a future version. Call result.infer_objects(copy=False) instead. To opt-in to the future behavior, set `pd.set_option('future.no_silent_downcasting', True)`\n",
      "  return df[columns].bfill(axis=1).infer_objects(copy=False).iloc[:, 0]\n",
      "C:\\Users\\dimit\\AppData\\Local\\Temp\\ipykernel_29192\\104804955.py:3: FutureWarning: Downcasting object dtype arrays on .fillna, .ffill, .bfill is deprecated and will change in a future version. Call result.infer_objects(copy=False) instead. To opt-in to the future behavior, set `pd.set_option('future.no_silent_downcasting', True)`\n",
      "  return df[columns].bfill(axis=1).infer_objects(copy=False).iloc[:, 0]\n",
      "C:\\Users\\dimit\\AppData\\Local\\Temp\\ipykernel_29192\\104804955.py:3: FutureWarning: Downcasting object dtype arrays on .fillna, .ffill, .bfill is deprecated and will change in a future version. Call result.infer_objects(copy=False) instead. To opt-in to the future behavior, set `pd.set_option('future.no_silent_downcasting', True)`\n",
      "  return df[columns].bfill(axis=1).infer_objects(copy=False).iloc[:, 0]\n"
     ]
    }
   ],
   "source": [
    "# Для створення агрегованих колонок\n",
    "def first_valid(df, columns):\n",
    "    return df[columns].bfill(axis=1).infer_objects(copy=False).iloc[:, 0]\n",
    "\n",
    "# Створення нових колонок\n",
    "df_teps['total_area_m2'] = first_valid(df_teps, total_area_cols)\n",
    "df_teps['living_area_m2'] = first_valid(df_teps, living_area_cols)\n",
    "df_teps['nonresidential_area_m2'] = first_valid(df_teps, nonresidential_area_cols)\n",
    "df_teps['build_footprint_area_m2'] = first_valid(df_teps, footprint_cols)\n",
    "df_teps['total_floors'] = first_valid(df_teps, floor_cols)\n",
    "df_teps['building_volume_m3'] = first_valid(df_teps, volume_cols)\n",
    "df_teps['building_height_m'] = first_valid(df_teps, height_cols)\n",
    "df_teps['estimated_cost_uah'] = first_valid(df_teps, cost_cols)\n",
    "\n",
    "# Колонки, які залишаємо як є (можеш доповнити)\n",
    "keep_cols = [\n",
    "    \"doc_id\",\n",
    "    \"Назва об'єкта\",\n",
    "    \"Тип об'єкта\",\n",
    "    'Вид будівництва',\n",
    "    \"Кількість підземних поверхів, од\",\n",
    "    'Тривалість будівництва, міс',\n",
    "    'Тривалість експлуатації (Розрахунковий строк експлуатації), р.',\n",
    "    'Кількість житлових кімнат, од',\n",
    "    \"Код ДКБС\"\n",
    "]\n",
    "\n",
    "# Остаточний датафрейм з очищеними колонками\n",
    "selected_cols = [col for col in keep_cols if col in df_teps.columns] +\\\n",
    "[\n",
    "    'total_area_m2',\n",
    "    'living_area_m2',\n",
    "    'nonresidential_area_m2',\n",
    "    'build_footprint_area_m2',\n",
    "    'total_floors',\n",
    "    'building_volume_m3',\n",
    "    'building_height_m',\n",
    "    'estimated_cost_uah'\n",
    "]\n",
    "\n",
    "df_teps_cleaned = df_teps[selected_cols]\n"
   ]
  },
  {
   "cell_type": "code",
   "execution_count": 15,
   "id": "34fcbbf7",
   "metadata": {},
   "outputs": [],
   "source": [
    "teps_rename_map = {\n",
    "    \"Назва об'єкта\": \"object_name_tep\",\n",
    "    \"Тип об'єкта\": \"object_type_tep\",\n",
    "    \"Вид будівництва\": \"construction_type_tep\",\n",
    "    \"Кількість підземних поверхів, од\": \"underground_floors\",\n",
    "    \"Тривалість будівництва, міс\": \"construction_duration_months\",\n",
    "    \"Тривалість експлуатації (Розрахунковий строк експлуатації), р.\": \"lifetime_years\",\n",
    "    \"Кількість житлових кімнат, од\": \"living_rooms_count\",\n",
    "    \"Код ДКБС\": \"dkbs_code\"\n",
    "}\n",
    "\n",
    "# Перейменовуємо\n",
    "df_teps_cleaned = df_teps_cleaned.rename(columns=teps_rename_map)\n"
   ]
  },
  {
   "cell_type": "code",
   "execution_count": 16,
   "id": "8f4428f3",
   "metadata": {},
   "outputs": [
    {
     "name": "stdout",
     "output_type": "stream",
     "text": [
      "<class 'pandas.core.frame.DataFrame'>\n",
      "RangeIndex: 35835 entries, 0 to 35834\n",
      "Data columns (total 17 columns):\n",
      " #   Column                        Non-Null Count  Dtype  \n",
      "---  ------                        --------------  -----  \n",
      " 0   doc_id                        35835 non-null  object \n",
      " 1   object_name_tep               35834 non-null  object \n",
      " 2   object_type_tep               35835 non-null  object \n",
      " 3   construction_type_tep         35832 non-null  object \n",
      " 4   underground_floors            5732 non-null   float64\n",
      " 5   construction_duration_months  6099 non-null   object \n",
      " 6   lifetime_years                4936 non-null   object \n",
      " 7   living_rooms_count            21229 non-null  float64\n",
      " 8   dkbs_code                     29010 non-null  object \n",
      " 9   total_area_m2                 34932 non-null  object \n",
      " 10  living_area_m2                24376 non-null  object \n",
      " 11  nonresidential_area_m2        20794 non-null  float64\n",
      " 12  build_footprint_area_m2       31909 non-null  object \n",
      " 13  total_floors                  31892 non-null  object \n",
      " 14  building_volume_m3            7844 non-null   object \n",
      " 15  building_height_m             14156 non-null  object \n",
      " 16  estimated_cost_uah            2019 non-null   object \n",
      "dtypes: float64(3), object(14)\n",
      "memory usage: 4.6+ MB\n"
     ]
    }
   ],
   "source": [
    "df_teps_cleaned.info()"
   ]
  },
  {
   "cell_type": "markdown",
   "id": "46d430ad",
   "metadata": {},
   "source": [
    "## Cleaning permit documents"
   ]
  },
  {
   "cell_type": "code",
   "execution_count": 17,
   "id": "ee6849b7",
   "metadata": {},
   "outputs": [],
   "source": [
    "def extract_first_tep(x):\n",
    "    try:\n",
    "        parsed = ast.literal_eval(x)\n",
    "        if isinstance(parsed, list) and len(parsed) > 0:\n",
    "            return parsed[0]\n",
    "    except (ValueError, SyntaxError):\n",
    "        pass\n",
    "    return None\n",
    "\n",
    "df_permits.loc[:, 'first_tep'] = df_permits['teps'].apply(extract_first_tep)"
   ]
  },
  {
   "cell_type": "code",
   "execution_count": 18,
   "id": "57baac65",
   "metadata": {},
   "outputs": [],
   "source": [
    "cost_cols = [\n",
    "    \"Загальна, тис. грн._Кошторисна вартість будівництва\",\n",
    "    \"За проектом, тис. грн._Кошторисна вартість будівництва\"\n",
    "]\n",
    "\n",
    "df_permits['cost'] = first_valid(df_permits, cost_cols)"
   ]
  },
  {
   "cell_type": "code",
   "execution_count": 19,
   "id": "28aee35e",
   "metadata": {},
   "outputs": [],
   "source": [
    "columns_to_extract = [\n",
    "    \"Реєстраційний номер в ЄДЕССБ_Основна інформація\",\n",
    "    \"Тип документу_Основна інформація\",\n",
    "    \"Статус документу_Основна інформація\",\n",
    "    \"Тип_Основна інформація\",\n",
    "    \"Версія документу_Основна інформація\",\n",
    "    \"Статус реєстрації_Основна інформація\",\n",
    "    \"Орган, що видав_Основна інформація\",\n",
    "    \"Назва об’єкта_Основна інформація\",\n",
    "    \"Форма подачі документа_Основна інформація\",\n",
    "    \"Клас наслідків_Основна інформація\",\n",
    "    \"Адреса_Місце розташування об'єкта будівництва та адреса\",\n",
    "    \"Дата реєстрації в ЄДЕССБ_Основна інформація\",\n",
    "    \"Вид будівництва_Відомості про об'єкт\",\n",
    "    \"Клас наслідків_Відомості про об'єкт\",\n",
    "    \"Спосіб будівництва_Відомості про об'єкт\",\n",
    "    \"Тип_Відомості про об'єкт\",\n",
    "    \"cost\",\n",
    "    \"Вид будівництва_Будівельний паспорт\",\n",
    "    \"first_tep\"\n",
    "]"
   ]
  },
  {
   "cell_type": "code",
   "execution_count": 20,
   "id": "7f59779c",
   "metadata": {},
   "outputs": [
    {
     "data": {
      "text/html": [
       "<div>\n",
       "<style scoped>\n",
       "    .dataframe tbody tr th:only-of-type {\n",
       "        vertical-align: middle;\n",
       "    }\n",
       "\n",
       "    .dataframe tbody tr th {\n",
       "        vertical-align: top;\n",
       "    }\n",
       "\n",
       "    .dataframe thead th {\n",
       "        text-align: right;\n",
       "    }\n",
       "</style>\n",
       "<table border=\"1\" class=\"dataframe\">\n",
       "  <thead>\n",
       "    <tr style=\"text-align: right;\">\n",
       "      <th></th>\n",
       "      <th>Column</th>\n",
       "      <th>Non-Null %</th>\n",
       "    </tr>\n",
       "  </thead>\n",
       "  <tbody>\n",
       "    <tr>\n",
       "      <th>0</th>\n",
       "      <td>Реєстраційний номер в ЄДЕССБ_Основна інформація</td>\n",
       "      <td>100.00</td>\n",
       "    </tr>\n",
       "    <tr>\n",
       "      <th>1</th>\n",
       "      <td>Тип документу_Основна інформація</td>\n",
       "      <td>100.00</td>\n",
       "    </tr>\n",
       "    <tr>\n",
       "      <th>2</th>\n",
       "      <td>Статус документу_Основна інформація</td>\n",
       "      <td>100.00</td>\n",
       "    </tr>\n",
       "    <tr>\n",
       "      <th>3</th>\n",
       "      <td>Тип_Основна інформація</td>\n",
       "      <td>100.00</td>\n",
       "    </tr>\n",
       "    <tr>\n",
       "      <th>4</th>\n",
       "      <td>Версія документу_Основна інформація</td>\n",
       "      <td>100.00</td>\n",
       "    </tr>\n",
       "    <tr>\n",
       "      <th>5</th>\n",
       "      <td>Статус реєстрації_Основна інформація</td>\n",
       "      <td>100.00</td>\n",
       "    </tr>\n",
       "    <tr>\n",
       "      <th>6</th>\n",
       "      <td>Орган, що видав_Основна інформація</td>\n",
       "      <td>100.00</td>\n",
       "    </tr>\n",
       "    <tr>\n",
       "      <th>7</th>\n",
       "      <td>Назва об’єкта_Основна інформація</td>\n",
       "      <td>100.00</td>\n",
       "    </tr>\n",
       "    <tr>\n",
       "      <th>8</th>\n",
       "      <td>Форма подачі документа_Основна інформація</td>\n",
       "      <td>100.00</td>\n",
       "    </tr>\n",
       "    <tr>\n",
       "      <th>9</th>\n",
       "      <td>Клас наслідків_Основна інформація</td>\n",
       "      <td>100.00</td>\n",
       "    </tr>\n",
       "    <tr>\n",
       "      <th>10</th>\n",
       "      <td>Адреса_Місце розташування об'єкта будівництва ...</td>\n",
       "      <td>100.00</td>\n",
       "    </tr>\n",
       "    <tr>\n",
       "      <th>11</th>\n",
       "      <td>Дата реєстрації в ЄДЕССБ_Основна інформація</td>\n",
       "      <td>100.00</td>\n",
       "    </tr>\n",
       "    <tr>\n",
       "      <th>12</th>\n",
       "      <td>Вид будівництва_Відомості про об'єкт</td>\n",
       "      <td>99.99</td>\n",
       "    </tr>\n",
       "    <tr>\n",
       "      <th>13</th>\n",
       "      <td>Клас наслідків_Відомості про об'єкт</td>\n",
       "      <td>99.98</td>\n",
       "    </tr>\n",
       "    <tr>\n",
       "      <th>14</th>\n",
       "      <td>Спосіб будівництва_Відомості про об'єкт</td>\n",
       "      <td>72.31</td>\n",
       "    </tr>\n",
       "    <tr>\n",
       "      <th>15</th>\n",
       "      <td>Тип_Відомості про об'єкт</td>\n",
       "      <td>67.09</td>\n",
       "    </tr>\n",
       "    <tr>\n",
       "      <th>16</th>\n",
       "      <td>first_tep</td>\n",
       "      <td>63.07</td>\n",
       "    </tr>\n",
       "    <tr>\n",
       "      <th>17</th>\n",
       "      <td>cost</td>\n",
       "      <td>35.80</td>\n",
       "    </tr>\n",
       "    <tr>\n",
       "      <th>18</th>\n",
       "      <td>Вид будівництва_Будівельний паспорт</td>\n",
       "      <td>20.15</td>\n",
       "    </tr>\n",
       "  </tbody>\n",
       "</table>\n",
       "</div>"
      ],
      "text/plain": [
       "                                               Column  Non-Null %\n",
       "0     Реєстраційний номер в ЄДЕССБ_Основна інформація      100.00\n",
       "1                    Тип документу_Основна інформація      100.00\n",
       "2                 Статус документу_Основна інформація      100.00\n",
       "3                              Тип_Основна інформація      100.00\n",
       "4                 Версія документу_Основна інформація      100.00\n",
       "5                Статус реєстрації_Основна інформація      100.00\n",
       "6                  Орган, що видав_Основна інформація      100.00\n",
       "7                    Назва об’єкта_Основна інформація      100.00\n",
       "8           Форма подачі документа_Основна інформація      100.00\n",
       "9                   Клас наслідків_Основна інформація      100.00\n",
       "10  Адреса_Місце розташування об'єкта будівництва ...      100.00\n",
       "11        Дата реєстрації в ЄДЕССБ_Основна інформація      100.00\n",
       "12               Вид будівництва_Відомості про об'єкт       99.99\n",
       "13                Клас наслідків_Відомості про об'єкт       99.98\n",
       "14            Спосіб будівництва_Відомості про об'єкт       72.31\n",
       "15                           Тип_Відомості про об'єкт       67.09\n",
       "16                                          first_tep       63.07\n",
       "17                                               cost       35.80\n",
       "18                Вид будівництва_Будівельний паспорт       20.15"
      ]
     },
     "execution_count": 20,
     "metadata": {},
     "output_type": "execute_result"
    }
   ],
   "source": [
    "# Calculate non-null percentage for each column\n",
    "percentages = {\n",
    "    col: round(df_permits[col].notna().sum() / df_permits.shape[0] * 100, 2)\n",
    "    for col in columns_to_extract\n",
    "}\n",
    "# Convert to DataFrame and sort\n",
    "percent_df = (\n",
    "    pd.DataFrame(percentages.items(), columns=[\"Column\", \"Non-Null %\"])\n",
    "    .sort_values(by=\"Non-Null %\", ascending=False)\n",
    "    .reset_index(drop=True)\n",
    ")\n",
    "percent_df.head(40)\n"
   ]
  },
  {
   "cell_type": "code",
   "execution_count": 21,
   "id": "d8f8fc70",
   "metadata": {},
   "outputs": [],
   "source": [
    "df_selected = df_permits[\n",
    "    [\n",
    "        \"Реєстраційний номер в ЄДЕССБ_Основна інформація\",\n",
    "        \"Тип документу_Основна інформація\",\n",
    "        \"Статус документу_Основна інформація\",\n",
    "        \"Тип_Основна інформація\",\n",
    "        \"Версія документу_Основна інформація\",\n",
    "        \"Статус реєстрації_Основна інформація\",\n",
    "        \"Орган, що видав_Основна інформація\",\n",
    "        \"Назва об’єкта_Основна інформація\",\n",
    "        \"Форма подачі документа_Основна інформація\",\n",
    "        \"Клас наслідків_Основна інформація\",\n",
    "        \"Адреса_Місце розташування об'єкта будівництва та адреса\",\n",
    "        \"Дата реєстрації в ЄДЕССБ_Основна інформація\",\n",
    "        \"Вид будівництва_Відомості про об'єкт\",\n",
    "        \"Клас наслідків_Відомості про об'єкт\",\n",
    "        \"Спосіб будівництва_Відомості про об'єкт\",\n",
    "        \"Тип_Відомості про об'єкт\",\n",
    "        \"cost\",\n",
    "        \"Вид будівництва_Будівельний паспорт\",\n",
    "        \"Відомості про замовника_Назва\",\n",
    "        \"first_tep\"\n",
    "    ]\n",
    "].rename(columns={\n",
    "    \"Реєстраційний номер в ЄДЕССБ_Основна інформація\": \"registration_number_edessb\",\n",
    "    \"Тип документу_Основна інформація\": \"document_type\",\n",
    "    \"Статус документу_Основна інформація\": \"document_status\",\n",
    "    \"Тип_Основна інформація\": \"main_type\",\n",
    "    \"Версія документу_Основна інформація\": \"document_version\",\n",
    "    \"Статус реєстрації_Основна інформація\": \"registration_status\",\n",
    "    \"Орган, що видав_Основна інформація\": \"issuing_body\",\n",
    "    \"Назва об’єкта_Основна інформація\": \"object_name\",\n",
    "    \"Форма подачі документа_Основна інформація\": \"submission_format\",\n",
    "    \"Клас наслідків_Основна інформація\": \"impact_class_main\",\n",
    "    \"Адреса_Місце розташування об'єкта будівництва та адреса\": \"address\",\n",
    "    \"Дата реєстрації в ЄДЕССБ_Основна інформація\": \"registration_date\",\n",
    "    \"Вид будівництва_Відомості про об'єкт\": \"construction_type\",\n",
    "    \"Клас наслідків_Відомості про об'єкт\": \"impact_class\",\n",
    "    \"Спосіб будівництва_Відомості про об'єкт\": \"construction_method\",\n",
    "    \"Тип_Відомості про об'єкт\": \"object_type\",\n",
    "    \"Вид будівництва_Будівельний паспорт\": \"construction_type_passport\",\n",
    "    \"Відомості про замовника_Назва\": \"client_name\"\n",
    "})\n"
   ]
  },
  {
   "cell_type": "markdown",
   "id": "2b12374e",
   "metadata": {},
   "source": [
    "## Analysis with cost and without"
   ]
  },
  {
   "cell_type": "code",
   "execution_count": 22,
   "id": "3b4c14e3",
   "metadata": {},
   "outputs": [],
   "source": [
    "# 1. Розбивка на наявні та відсутні за кошторисною вартістю\n",
    "has_cost = df_selected[~df_selected[\"cost\"].isna()]\n",
    "no_cost = df_selected[df_selected[\"cost\"].isna()]\n",
    "\n",
    "# 2. Функція для порівняльного аналізу\n",
    "def compare_distribution(col):\n",
    "    return (\n",
    "        pd.DataFrame({\n",
    "            'with_cost%': has_cost[col].value_counts(normalize=True).mul(100).round(2),\n",
    "            'without_cost%': no_cost[col].value_counts(normalize=True).mul(100).round(2),\n",
    "            'count_with_cost': has_cost[col].value_counts(),\n",
    "            'count_without_cost': no_cost[col].value_counts()\n",
    "        })\n",
    "        .fillna(0)\n",
    "        .sort_values(\"with_cost%\", ascending=False)\n",
    "    )\n",
    "\n",
    "\n",
    "# 4. Порівняння для main_type\n",
    "dist_main_type = compare_distribution(\"main_type\")\n",
    "\n",
    "# Порівняння для document_status\n",
    "dist_doc_status = compare_distribution(\"document_status\")\n",
    "\n",
    "# Порівняння для submission_format\n",
    "dist_submission_format = compare_distribution(\"submission_format\")\n",
    "\n",
    "# Порівняння для object_type\n",
    "dist_object_type = compare_distribution(\"object_type\")\n"
   ]
  },
  {
   "cell_type": "code",
   "execution_count": 23,
   "id": "44ddc5d1",
   "metadata": {},
   "outputs": [
    {
     "data": {
      "text/html": [
       "<div>\n",
       "<style scoped>\n",
       "    .dataframe tbody tr th:only-of-type {\n",
       "        vertical-align: middle;\n",
       "    }\n",
       "\n",
       "    .dataframe tbody tr th {\n",
       "        vertical-align: top;\n",
       "    }\n",
       "\n",
       "    .dataframe thead th {\n",
       "        text-align: right;\n",
       "    }\n",
       "</style>\n",
       "<table border=\"1\" class=\"dataframe\">\n",
       "  <thead>\n",
       "    <tr style=\"text-align: right;\">\n",
       "      <th></th>\n",
       "      <th>with_cost%</th>\n",
       "      <th>without_cost%</th>\n",
       "      <th>count_with_cost</th>\n",
       "      <th>count_without_cost</th>\n",
       "    </tr>\n",
       "    <tr>\n",
       "      <th>object_type</th>\n",
       "      <th></th>\n",
       "      <th></th>\n",
       "      <th></th>\n",
       "      <th></th>\n",
       "    </tr>\n",
       "  </thead>\n",
       "  <tbody>\n",
       "    <tr>\n",
       "      <th>Будівельний паспорт</th>\n",
       "      <td>62.03</td>\n",
       "      <td>58.55</td>\n",
       "      <td>26192</td>\n",
       "      <td>27457</td>\n",
       "    </tr>\n",
       "    <tr>\n",
       "      <th>Відсутні відомості про містобудівні умови та обмеження</th>\n",
       "      <td>17.03</td>\n",
       "      <td>0.60</td>\n",
       "      <td>7189</td>\n",
       "      <td>283</td>\n",
       "    </tr>\n",
       "    <tr>\n",
       "      <th>Містобудівні умови та обмеження</th>\n",
       "      <td>14.40</td>\n",
       "      <td>9.59</td>\n",
       "      <td>6080</td>\n",
       "      <td>4497</td>\n",
       "    </tr>\n",
       "    <tr>\n",
       "      <th>Лист відсутній</th>\n",
       "      <td>5.84</td>\n",
       "      <td>3.80</td>\n",
       "      <td>2467</td>\n",
       "      <td>1784</td>\n",
       "    </tr>\n",
       "    <tr>\n",
       "      <th>Містобудівні умови та обмеження не надаються</th>\n",
       "      <td>0.64</td>\n",
       "      <td>0.28</td>\n",
       "      <td>271</td>\n",
       "      <td>130</td>\n",
       "    </tr>\n",
       "    <tr>\n",
       "      <th>Схема забудови земельної ділянки</th>\n",
       "      <td>0.04</td>\n",
       "      <td>26.34</td>\n",
       "      <td>16</td>\n",
       "      <td>12352</td>\n",
       "    </tr>\n",
       "    <tr>\n",
       "      <th>Відомості про будівельний паспорт відсутні</th>\n",
       "      <td>0.02</td>\n",
       "      <td>0.82</td>\n",
       "      <td>8</td>\n",
       "      <td>384</td>\n",
       "    </tr>\n",
       "    <tr>\n",
       "      <th>Висновок про розміщення потужностей підприємст, об'єктів для проживання ВПО</th>\n",
       "      <td>0.00</td>\n",
       "      <td>0.01</td>\n",
       "      <td>1</td>\n",
       "      <td>3</td>\n",
       "    </tr>\n",
       "    <tr>\n",
       "      <th>Відомості з містобудівної документації</th>\n",
       "      <td>0.00</td>\n",
       "      <td>0.01</td>\n",
       "      <td>1</td>\n",
       "      <td>4</td>\n",
       "    </tr>\n",
       "  </tbody>\n",
       "</table>\n",
       "</div>"
      ],
      "text/plain": [
       "                                                    with_cost%  without_cost%  \\\n",
       "object_type                                                                     \n",
       "Будівельний паспорт                                      62.03          58.55   \n",
       "Відсутні відомості про містобудівні умови та об...       17.03           0.60   \n",
       "Містобудівні умови та обмеження                          14.40           9.59   \n",
       "Лист відсутній                                            5.84           3.80   \n",
       "Містобудівні умови та обмеження не надаються              0.64           0.28   \n",
       "Схема забудови земельної ділянки                          0.04          26.34   \n",
       "Відомості про будівельний паспорт відсутні                0.02           0.82   \n",
       "Висновок про розміщення потужностей підприємст,...        0.00           0.01   \n",
       "Відомості з містобудівної документації                    0.00           0.01   \n",
       "\n",
       "                                                    count_with_cost  \\\n",
       "object_type                                                           \n",
       "Будівельний паспорт                                           26192   \n",
       "Відсутні відомості про містобудівні умови та об...             7189   \n",
       "Містобудівні умови та обмеження                                6080   \n",
       "Лист відсутній                                                 2467   \n",
       "Містобудівні умови та обмеження не надаються                    271   \n",
       "Схема забудови земельної ділянки                                 16   \n",
       "Відомості про будівельний паспорт відсутні                        8   \n",
       "Висновок про розміщення потужностей підприємст,...                1   \n",
       "Відомості з містобудівної документації                            1   \n",
       "\n",
       "                                                    count_without_cost  \n",
       "object_type                                                             \n",
       "Будівельний паспорт                                              27457  \n",
       "Відсутні відомості про містобудівні умови та об...                 283  \n",
       "Містобудівні умови та обмеження                                   4497  \n",
       "Лист відсутній                                                    1784  \n",
       "Містобудівні умови та обмеження не надаються                       130  \n",
       "Схема забудови земельної ділянки                                 12352  \n",
       "Відомості про будівельний паспорт відсутні                         384  \n",
       "Висновок про розміщення потужностей підприємст,...                   3  \n",
       "Відомості з містобудівної документації                               4  "
      ]
     },
     "execution_count": 23,
     "metadata": {},
     "output_type": "execute_result"
    }
   ],
   "source": [
    "dist_object_type"
   ]
  },
  {
   "cell_type": "code",
   "execution_count": 24,
   "id": "c6498237",
   "metadata": {},
   "outputs": [
    {
     "data": {
      "text/html": [
       "<div>\n",
       "<style scoped>\n",
       "    .dataframe tbody tr th:only-of-type {\n",
       "        vertical-align: middle;\n",
       "    }\n",
       "\n",
       "    .dataframe tbody tr th {\n",
       "        vertical-align: top;\n",
       "    }\n",
       "\n",
       "    .dataframe thead th {\n",
       "        text-align: right;\n",
       "    }\n",
       "</style>\n",
       "<table border=\"1\" class=\"dataframe\">\n",
       "  <thead>\n",
       "    <tr style=\"text-align: right;\">\n",
       "      <th></th>\n",
       "      <th>with_cost%</th>\n",
       "      <th>without_cost%</th>\n",
       "      <th>count_with_cost</th>\n",
       "      <th>count_without_cost</th>\n",
       "    </tr>\n",
       "    <tr>\n",
       "      <th>submission_format</th>\n",
       "      <th></th>\n",
       "      <th></th>\n",
       "      <th></th>\n",
       "      <th></th>\n",
       "    </tr>\n",
       "  </thead>\n",
       "  <tbody>\n",
       "    <tr>\n",
       "      <th>Паперова (ЦНАП)</th>\n",
       "      <td>78.59</td>\n",
       "      <td>74.66</td>\n",
       "      <td>37378</td>\n",
       "      <td>63664</td>\n",
       "    </tr>\n",
       "    <tr>\n",
       "      <th>Електронна (розглянуто)</th>\n",
       "      <td>21.40</td>\n",
       "      <td>25.33</td>\n",
       "      <td>10180</td>\n",
       "      <td>21601</td>\n",
       "    </tr>\n",
       "    <tr>\n",
       "      <th>Паперова</th>\n",
       "      <td>0.01</td>\n",
       "      <td>0.01</td>\n",
       "      <td>4</td>\n",
       "      <td>8</td>\n",
       "    </tr>\n",
       "    <tr>\n",
       "      <th>Електронна</th>\n",
       "      <td>0.00</td>\n",
       "      <td>0.00</td>\n",
       "      <td>1</td>\n",
       "      <td>1</td>\n",
       "    </tr>\n",
       "  </tbody>\n",
       "</table>\n",
       "</div>"
      ],
      "text/plain": [
       "                         with_cost%  without_cost%  count_with_cost  \\\n",
       "submission_format                                                     \n",
       "Паперова (ЦНАП)               78.59          74.66            37378   \n",
       "Електронна (розглянуто)       21.40          25.33            10180   \n",
       "Паперова                       0.01           0.01                4   \n",
       "Електронна                     0.00           0.00                1   \n",
       "\n",
       "                         count_without_cost  \n",
       "submission_format                            \n",
       "Паперова (ЦНАП)                       63664  \n",
       "Електронна (розглянуто)               21601  \n",
       "Паперова                                  8  \n",
       "Електронна                                1  "
      ]
     },
     "execution_count": 24,
     "metadata": {},
     "output_type": "execute_result"
    }
   ],
   "source": [
    "dist_submission_format"
   ]
  },
  {
   "cell_type": "code",
   "execution_count": 25,
   "id": "71b1dd3d",
   "metadata": {},
   "outputs": [
    {
     "data": {
      "text/html": [
       "<div>\n",
       "<style scoped>\n",
       "    .dataframe tbody tr th:only-of-type {\n",
       "        vertical-align: middle;\n",
       "    }\n",
       "\n",
       "    .dataframe tbody tr th {\n",
       "        vertical-align: top;\n",
       "    }\n",
       "\n",
       "    .dataframe thead th {\n",
       "        text-align: right;\n",
       "    }\n",
       "</style>\n",
       "<table border=\"1\" class=\"dataframe\">\n",
       "  <thead>\n",
       "    <tr style=\"text-align: right;\">\n",
       "      <th></th>\n",
       "      <th>with_cost%</th>\n",
       "      <th>without_cost%</th>\n",
       "      <th>count_with_cost</th>\n",
       "      <th>count_without_cost</th>\n",
       "    </tr>\n",
       "    <tr>\n",
       "      <th>document_status</th>\n",
       "      <th></th>\n",
       "      <th></th>\n",
       "      <th></th>\n",
       "      <th></th>\n",
       "    </tr>\n",
       "  </thead>\n",
       "  <tbody>\n",
       "    <tr>\n",
       "      <th>Діючий</th>\n",
       "      <td>78.33</td>\n",
       "      <td>79.41</td>\n",
       "      <td>37255.0</td>\n",
       "      <td>67716</td>\n",
       "    </tr>\n",
       "    <tr>\n",
       "      <th>Повернуто на доопрацювання</th>\n",
       "      <td>18.46</td>\n",
       "      <td>16.12</td>\n",
       "      <td>8779.0</td>\n",
       "      <td>13749</td>\n",
       "    </tr>\n",
       "    <tr>\n",
       "      <th>Повернуто без розгляду</th>\n",
       "      <td>2.49</td>\n",
       "      <td>3.14</td>\n",
       "      <td>1185.0</td>\n",
       "      <td>2680</td>\n",
       "    </tr>\n",
       "    <tr>\n",
       "      <th>Відмовлено</th>\n",
       "      <td>0.65</td>\n",
       "      <td>1.21</td>\n",
       "      <td>308.0</td>\n",
       "      <td>1033</td>\n",
       "    </tr>\n",
       "    <tr>\n",
       "      <th>Скасований</th>\n",
       "      <td>0.07</td>\n",
       "      <td>0.08</td>\n",
       "      <td>35.0</td>\n",
       "      <td>64</td>\n",
       "    </tr>\n",
       "    <tr>\n",
       "      <th>Відмовлено у внесенні відомостей в систему</th>\n",
       "      <td>0.00</td>\n",
       "      <td>0.04</td>\n",
       "      <td>1.0</td>\n",
       "      <td>31</td>\n",
       "    </tr>\n",
       "    <tr>\n",
       "      <th>Зупинений</th>\n",
       "      <td>0.00</td>\n",
       "      <td>0.00</td>\n",
       "      <td>0.0</td>\n",
       "      <td>1</td>\n",
       "    </tr>\n",
       "  </tbody>\n",
       "</table>\n",
       "</div>"
      ],
      "text/plain": [
       "                                            with_cost%  without_cost%  \\\n",
       "document_status                                                         \n",
       "Діючий                                           78.33          79.41   \n",
       "Повернуто на доопрацювання                       18.46          16.12   \n",
       "Повернуто без розгляду                            2.49           3.14   \n",
       "Відмовлено                                        0.65           1.21   \n",
       "Скасований                                        0.07           0.08   \n",
       "Відмовлено у внесенні відомостей в систему        0.00           0.04   \n",
       "Зупинений                                         0.00           0.00   \n",
       "\n",
       "                                            count_with_cost  \\\n",
       "document_status                                               \n",
       "Діючий                                              37255.0   \n",
       "Повернуто на доопрацювання                           8779.0   \n",
       "Повернуто без розгляду                               1185.0   \n",
       "Відмовлено                                            308.0   \n",
       "Скасований                                             35.0   \n",
       "Відмовлено у внесенні відомостей в систему              1.0   \n",
       "Зупинений                                               0.0   \n",
       "\n",
       "                                            count_without_cost  \n",
       "document_status                                                 \n",
       "Діючий                                                   67716  \n",
       "Повернуто на доопрацювання                               13749  \n",
       "Повернуто без розгляду                                    2680  \n",
       "Відмовлено                                                1033  \n",
       "Скасований                                                  64  \n",
       "Відмовлено у внесенні відомостей в систему                  31  \n",
       "Зупинений                                                    1  "
      ]
     },
     "execution_count": 25,
     "metadata": {},
     "output_type": "execute_result"
    }
   ],
   "source": [
    "dist_doc_status"
   ]
  },
  {
   "cell_type": "code",
   "execution_count": 26,
   "id": "91850af1",
   "metadata": {},
   "outputs": [
    {
     "data": {
      "text/html": [
       "<div>\n",
       "<style scoped>\n",
       "    .dataframe tbody tr th:only-of-type {\n",
       "        vertical-align: middle;\n",
       "    }\n",
       "\n",
       "    .dataframe tbody tr th {\n",
       "        vertical-align: top;\n",
       "    }\n",
       "\n",
       "    .dataframe thead th {\n",
       "        text-align: right;\n",
       "    }\n",
       "</style>\n",
       "<table border=\"1\" class=\"dataframe\">\n",
       "  <thead>\n",
       "    <tr style=\"text-align: right;\">\n",
       "      <th></th>\n",
       "      <th>with_cost%</th>\n",
       "      <th>without_cost%</th>\n",
       "      <th>count_with_cost</th>\n",
       "      <th>count_without_cost</th>\n",
       "    </tr>\n",
       "    <tr>\n",
       "      <th>main_type</th>\n",
       "      <th></th>\n",
       "      <th></th>\n",
       "      <th></th>\n",
       "      <th></th>\n",
       "    </tr>\n",
       "  </thead>\n",
       "  <tbody>\n",
       "    <tr>\n",
       "      <th>Реєстрація декларації про готовність до експлуатації об’єкта</th>\n",
       "      <td>80.07</td>\n",
       "      <td>3.36</td>\n",
       "      <td>38082.0</td>\n",
       "      <td>2867</td>\n",
       "    </tr>\n",
       "    <tr>\n",
       "      <th>Повідомлення про початок виконання будівельних робіт</th>\n",
       "      <td>17.24</td>\n",
       "      <td>49.43</td>\n",
       "      <td>8199.0</td>\n",
       "      <td>42154</td>\n",
       "    </tr>\n",
       "    <tr>\n",
       "      <th>Видача сертифіката про прийняття в експлуатацію закінчених будівництвом об’єктів</th>\n",
       "      <td>2.63</td>\n",
       "      <td>0.84</td>\n",
       "      <td>1252.0</td>\n",
       "      <td>713</td>\n",
       "    </tr>\n",
       "    <tr>\n",
       "      <th>Реєстрація декларації про готовність до експлуатації об’єкта, за рішенням суду</th>\n",
       "      <td>0.06</td>\n",
       "      <td>0.33</td>\n",
       "      <td>30.0</td>\n",
       "      <td>284</td>\n",
       "    </tr>\n",
       "    <tr>\n",
       "      <th>Видача дозволу на виконання будівельних робіт</th>\n",
       "      <td>0.00</td>\n",
       "      <td>2.91</td>\n",
       "      <td>0.0</td>\n",
       "      <td>2479</td>\n",
       "    </tr>\n",
       "    <tr>\n",
       "      <th>Повідомлення про початок виконання підготовчих робіт</th>\n",
       "      <td>0.00</td>\n",
       "      <td>0.03</td>\n",
       "      <td>0.0</td>\n",
       "      <td>23</td>\n",
       "    </tr>\n",
       "    <tr>\n",
       "      <th>Реєстрація декларації про готовність до експлуатації об’єкта за амністією</th>\n",
       "      <td>0.00</td>\n",
       "      <td>43.10</td>\n",
       "      <td>0.0</td>\n",
       "      <td>36754</td>\n",
       "    </tr>\n",
       "  </tbody>\n",
       "</table>\n",
       "</div>"
      ],
      "text/plain": [
       "                                                    with_cost%  without_cost%  \\\n",
       "main_type                                                                       \n",
       "Реєстрація декларації про готовність до експлуа...       80.07           3.36   \n",
       "Повідомлення про початок виконання будівельних ...       17.24          49.43   \n",
       "Видача сертифіката про прийняття в експлуатацію...        2.63           0.84   \n",
       "Реєстрація декларації про готовність до експлуа...        0.06           0.33   \n",
       "Видача дозволу на виконання будівельних робіт             0.00           2.91   \n",
       "Повідомлення про початок виконання підготовчих ...        0.00           0.03   \n",
       "Реєстрація декларації про готовність до експлуа...        0.00          43.10   \n",
       "\n",
       "                                                    count_with_cost  \\\n",
       "main_type                                                             \n",
       "Реєстрація декларації про готовність до експлуа...          38082.0   \n",
       "Повідомлення про початок виконання будівельних ...           8199.0   \n",
       "Видача сертифіката про прийняття в експлуатацію...           1252.0   \n",
       "Реєстрація декларації про готовність до експлуа...             30.0   \n",
       "Видача дозволу на виконання будівельних робіт                   0.0   \n",
       "Повідомлення про початок виконання підготовчих ...              0.0   \n",
       "Реєстрація декларації про готовність до експлуа...              0.0   \n",
       "\n",
       "                                                    count_without_cost  \n",
       "main_type                                                               \n",
       "Реєстрація декларації про готовність до експлуа...                2867  \n",
       "Повідомлення про початок виконання будівельних ...               42154  \n",
       "Видача сертифіката про прийняття в експлуатацію...                 713  \n",
       "Реєстрація декларації про готовність до експлуа...                 284  \n",
       "Видача дозволу на виконання будівельних робіт                     2479  \n",
       "Повідомлення про початок виконання підготовчих ...                  23  \n",
       "Реєстрація декларації про готовність до експлуа...               36754  "
      ]
     },
     "execution_count": 26,
     "metadata": {},
     "output_type": "execute_result"
    }
   ],
   "source": [
    "dist_main_type"
   ]
  },
  {
   "cell_type": "code",
   "execution_count": 27,
   "id": "3c1bde89",
   "metadata": {},
   "outputs": [
    {
     "data": {
      "application/vnd.plotly.v1+json": {
       "config": {
        "plotlyServerURL": "https://plot.ly"
       },
       "data": [
        {
         "hovertemplate": "Наявність кошторису=Без вартості<br>Дата=%{x}<br>Кількість документів=%{y}<extra></extra>",
         "legendgroup": "Без вартості",
         "line": {
          "color": "#636efa",
          "dash": "solid"
         },
         "marker": {
          "symbol": "circle"
         },
         "mode": "lines",
         "name": "Без вартості",
         "orientation": "v",
         "showlegend": true,
         "type": "scatter",
         "x": [
          "2024-01-01T00:00:00.000000000",
          "2024-01-08T00:00:00.000000000",
          "2024-01-15T00:00:00.000000000",
          "2024-01-22T00:00:00.000000000",
          "2024-01-29T00:00:00.000000000",
          "2024-02-05T00:00:00.000000000",
          "2024-02-12T00:00:00.000000000",
          "2024-02-19T00:00:00.000000000",
          "2024-02-26T00:00:00.000000000",
          "2024-03-04T00:00:00.000000000",
          "2024-03-11T00:00:00.000000000",
          "2024-03-18T00:00:00.000000000",
          "2024-03-25T00:00:00.000000000",
          "2024-04-01T00:00:00.000000000",
          "2024-04-08T00:00:00.000000000",
          "2024-04-15T00:00:00.000000000",
          "2024-04-22T00:00:00.000000000",
          "2024-04-29T00:00:00.000000000",
          "2024-05-06T00:00:00.000000000",
          "2024-05-13T00:00:00.000000000",
          "2024-05-20T00:00:00.000000000",
          "2024-05-27T00:00:00.000000000",
          "2024-06-03T00:00:00.000000000",
          "2024-06-10T00:00:00.000000000",
          "2024-06-17T00:00:00.000000000",
          "2024-06-24T00:00:00.000000000",
          "2024-07-01T00:00:00.000000000",
          "2024-07-08T00:00:00.000000000",
          "2024-07-15T00:00:00.000000000",
          "2024-07-22T00:00:00.000000000",
          "2024-07-29T00:00:00.000000000",
          "2024-08-05T00:00:00.000000000",
          "2024-08-12T00:00:00.000000000",
          "2024-08-19T00:00:00.000000000",
          "2024-08-26T00:00:00.000000000",
          "2024-09-02T00:00:00.000000000",
          "2024-09-09T00:00:00.000000000",
          "2024-09-16T00:00:00.000000000",
          "2024-09-23T00:00:00.000000000",
          "2024-09-30T00:00:00.000000000",
          "2024-10-07T00:00:00.000000000",
          "2024-10-14T00:00:00.000000000",
          "2024-10-21T00:00:00.000000000",
          "2024-10-28T00:00:00.000000000",
          "2024-11-04T00:00:00.000000000",
          "2024-11-11T00:00:00.000000000",
          "2024-11-18T00:00:00.000000000",
          "2024-11-25T00:00:00.000000000",
          "2024-12-02T00:00:00.000000000",
          "2024-12-09T00:00:00.000000000",
          "2024-12-16T00:00:00.000000000",
          "2024-12-23T00:00:00.000000000",
          "2024-12-30T00:00:00.000000000"
         ],
         "xaxis": "x",
         "y": {
          "bdata": "bwQSBQUFVwbQBuAFVwYABrAGrwY1B6AG7QbSBpYGZAcDB84GmgV/BZwGKgbbBXgGVwafBUsG/wWtBSgHXQfFB6MGMwbUBUkGxQaxBv0GtAaoBv0Giga8BlYG+QaIBgEHggYVB60FEQTdAA==",
          "dtype": "i2"
         },
         "yaxis": "y"
        },
        {
         "hovertemplate": "Наявність кошторису=З вартістю<br>Дата=%{x}<br>Кількість документів=%{y}<extra></extra>",
         "legendgroup": "З вартістю",
         "line": {
          "color": "#EF553B",
          "dash": "solid"
         },
         "marker": {
          "symbol": "circle"
         },
         "mode": "lines",
         "name": "З вартістю",
         "orientation": "v",
         "showlegend": true,
         "type": "scatter",
         "x": [
          "2024-01-01T00:00:00.000000000",
          "2024-01-08T00:00:00.000000000",
          "2024-01-15T00:00:00.000000000",
          "2024-01-22T00:00:00.000000000",
          "2024-01-29T00:00:00.000000000",
          "2024-02-05T00:00:00.000000000",
          "2024-02-12T00:00:00.000000000",
          "2024-02-19T00:00:00.000000000",
          "2024-02-26T00:00:00.000000000",
          "2024-03-04T00:00:00.000000000",
          "2024-03-11T00:00:00.000000000",
          "2024-03-18T00:00:00.000000000",
          "2024-03-25T00:00:00.000000000",
          "2024-04-01T00:00:00.000000000",
          "2024-04-08T00:00:00.000000000",
          "2024-04-15T00:00:00.000000000",
          "2024-04-22T00:00:00.000000000",
          "2024-04-29T00:00:00.000000000",
          "2024-05-06T00:00:00.000000000",
          "2024-05-13T00:00:00.000000000",
          "2024-05-20T00:00:00.000000000",
          "2024-05-27T00:00:00.000000000",
          "2024-06-03T00:00:00.000000000",
          "2024-06-10T00:00:00.000000000",
          "2024-06-17T00:00:00.000000000",
          "2024-06-24T00:00:00.000000000",
          "2024-07-01T00:00:00.000000000",
          "2024-07-08T00:00:00.000000000",
          "2024-07-15T00:00:00.000000000",
          "2024-07-22T00:00:00.000000000",
          "2024-07-29T00:00:00.000000000",
          "2024-08-05T00:00:00.000000000",
          "2024-08-12T00:00:00.000000000",
          "2024-08-19T00:00:00.000000000",
          "2024-08-26T00:00:00.000000000",
          "2024-09-02T00:00:00.000000000",
          "2024-09-09T00:00:00.000000000",
          "2024-09-16T00:00:00.000000000",
          "2024-09-23T00:00:00.000000000",
          "2024-09-30T00:00:00.000000000",
          "2024-10-07T00:00:00.000000000",
          "2024-10-14T00:00:00.000000000",
          "2024-10-21T00:00:00.000000000",
          "2024-10-28T00:00:00.000000000",
          "2024-11-04T00:00:00.000000000",
          "2024-11-11T00:00:00.000000000",
          "2024-11-18T00:00:00.000000000",
          "2024-11-25T00:00:00.000000000",
          "2024-12-02T00:00:00.000000000",
          "2024-12-09T00:00:00.000000000",
          "2024-12-16T00:00:00.000000000",
          "2024-12-23T00:00:00.000000000",
          "2024-12-30T00:00:00.000000000"
         ],
         "xaxis": "x",
         "y": {
          "bdata": "NQKsAjACgAKzAhIDiwNfA6QDNQOSA8YDlQNFA8EDyQO1A6oDIAMXA4cDvwNKA6gDXgMxA20DkgO+A+QD0wP7A70DhANNA6IDMgQnBOYD1AP4AxUEiwMnBA0ENwTjAyYEJgR3BNYDvgKqAA==",
          "dtype": "i2"
         },
         "yaxis": "y"
        }
       ],
       "layout": {
        "legend": {
         "title": {
          "text": "Наявність кошторису"
         },
         "tracegroupgap": 0
        },
        "template": {
         "data": {
          "bar": [
           {
            "error_x": {
             "color": "#2a3f5f"
            },
            "error_y": {
             "color": "#2a3f5f"
            },
            "marker": {
             "line": {
              "color": "#E5ECF6",
              "width": 0.5
             },
             "pattern": {
              "fillmode": "overlay",
              "size": 10,
              "solidity": 0.2
             }
            },
            "type": "bar"
           }
          ],
          "barpolar": [
           {
            "marker": {
             "line": {
              "color": "#E5ECF6",
              "width": 0.5
             },
             "pattern": {
              "fillmode": "overlay",
              "size": 10,
              "solidity": 0.2
             }
            },
            "type": "barpolar"
           }
          ],
          "carpet": [
           {
            "aaxis": {
             "endlinecolor": "#2a3f5f",
             "gridcolor": "white",
             "linecolor": "white",
             "minorgridcolor": "white",
             "startlinecolor": "#2a3f5f"
            },
            "baxis": {
             "endlinecolor": "#2a3f5f",
             "gridcolor": "white",
             "linecolor": "white",
             "minorgridcolor": "white",
             "startlinecolor": "#2a3f5f"
            },
            "type": "carpet"
           }
          ],
          "choropleth": [
           {
            "colorbar": {
             "outlinewidth": 0,
             "ticks": ""
            },
            "type": "choropleth"
           }
          ],
          "contour": [
           {
            "colorbar": {
             "outlinewidth": 0,
             "ticks": ""
            },
            "colorscale": [
             [
              0,
              "#0d0887"
             ],
             [
              0.1111111111111111,
              "#46039f"
             ],
             [
              0.2222222222222222,
              "#7201a8"
             ],
             [
              0.3333333333333333,
              "#9c179e"
             ],
             [
              0.4444444444444444,
              "#bd3786"
             ],
             [
              0.5555555555555556,
              "#d8576b"
             ],
             [
              0.6666666666666666,
              "#ed7953"
             ],
             [
              0.7777777777777778,
              "#fb9f3a"
             ],
             [
              0.8888888888888888,
              "#fdca26"
             ],
             [
              1,
              "#f0f921"
             ]
            ],
            "type": "contour"
           }
          ],
          "contourcarpet": [
           {
            "colorbar": {
             "outlinewidth": 0,
             "ticks": ""
            },
            "type": "contourcarpet"
           }
          ],
          "heatmap": [
           {
            "colorbar": {
             "outlinewidth": 0,
             "ticks": ""
            },
            "colorscale": [
             [
              0,
              "#0d0887"
             ],
             [
              0.1111111111111111,
              "#46039f"
             ],
             [
              0.2222222222222222,
              "#7201a8"
             ],
             [
              0.3333333333333333,
              "#9c179e"
             ],
             [
              0.4444444444444444,
              "#bd3786"
             ],
             [
              0.5555555555555556,
              "#d8576b"
             ],
             [
              0.6666666666666666,
              "#ed7953"
             ],
             [
              0.7777777777777778,
              "#fb9f3a"
             ],
             [
              0.8888888888888888,
              "#fdca26"
             ],
             [
              1,
              "#f0f921"
             ]
            ],
            "type": "heatmap"
           }
          ],
          "histogram": [
           {
            "marker": {
             "pattern": {
              "fillmode": "overlay",
              "size": 10,
              "solidity": 0.2
             }
            },
            "type": "histogram"
           }
          ],
          "histogram2d": [
           {
            "colorbar": {
             "outlinewidth": 0,
             "ticks": ""
            },
            "colorscale": [
             [
              0,
              "#0d0887"
             ],
             [
              0.1111111111111111,
              "#46039f"
             ],
             [
              0.2222222222222222,
              "#7201a8"
             ],
             [
              0.3333333333333333,
              "#9c179e"
             ],
             [
              0.4444444444444444,
              "#bd3786"
             ],
             [
              0.5555555555555556,
              "#d8576b"
             ],
             [
              0.6666666666666666,
              "#ed7953"
             ],
             [
              0.7777777777777778,
              "#fb9f3a"
             ],
             [
              0.8888888888888888,
              "#fdca26"
             ],
             [
              1,
              "#f0f921"
             ]
            ],
            "type": "histogram2d"
           }
          ],
          "histogram2dcontour": [
           {
            "colorbar": {
             "outlinewidth": 0,
             "ticks": ""
            },
            "colorscale": [
             [
              0,
              "#0d0887"
             ],
             [
              0.1111111111111111,
              "#46039f"
             ],
             [
              0.2222222222222222,
              "#7201a8"
             ],
             [
              0.3333333333333333,
              "#9c179e"
             ],
             [
              0.4444444444444444,
              "#bd3786"
             ],
             [
              0.5555555555555556,
              "#d8576b"
             ],
             [
              0.6666666666666666,
              "#ed7953"
             ],
             [
              0.7777777777777778,
              "#fb9f3a"
             ],
             [
              0.8888888888888888,
              "#fdca26"
             ],
             [
              1,
              "#f0f921"
             ]
            ],
            "type": "histogram2dcontour"
           }
          ],
          "mesh3d": [
           {
            "colorbar": {
             "outlinewidth": 0,
             "ticks": ""
            },
            "type": "mesh3d"
           }
          ],
          "parcoords": [
           {
            "line": {
             "colorbar": {
              "outlinewidth": 0,
              "ticks": ""
             }
            },
            "type": "parcoords"
           }
          ],
          "pie": [
           {
            "automargin": true,
            "type": "pie"
           }
          ],
          "scatter": [
           {
            "fillpattern": {
             "fillmode": "overlay",
             "size": 10,
             "solidity": 0.2
            },
            "type": "scatter"
           }
          ],
          "scatter3d": [
           {
            "line": {
             "colorbar": {
              "outlinewidth": 0,
              "ticks": ""
             }
            },
            "marker": {
             "colorbar": {
              "outlinewidth": 0,
              "ticks": ""
             }
            },
            "type": "scatter3d"
           }
          ],
          "scattercarpet": [
           {
            "marker": {
             "colorbar": {
              "outlinewidth": 0,
              "ticks": ""
             }
            },
            "type": "scattercarpet"
           }
          ],
          "scattergeo": [
           {
            "marker": {
             "colorbar": {
              "outlinewidth": 0,
              "ticks": ""
             }
            },
            "type": "scattergeo"
           }
          ],
          "scattergl": [
           {
            "marker": {
             "colorbar": {
              "outlinewidth": 0,
              "ticks": ""
             }
            },
            "type": "scattergl"
           }
          ],
          "scattermap": [
           {
            "marker": {
             "colorbar": {
              "outlinewidth": 0,
              "ticks": ""
             }
            },
            "type": "scattermap"
           }
          ],
          "scattermapbox": [
           {
            "marker": {
             "colorbar": {
              "outlinewidth": 0,
              "ticks": ""
             }
            },
            "type": "scattermapbox"
           }
          ],
          "scatterpolar": [
           {
            "marker": {
             "colorbar": {
              "outlinewidth": 0,
              "ticks": ""
             }
            },
            "type": "scatterpolar"
           }
          ],
          "scatterpolargl": [
           {
            "marker": {
             "colorbar": {
              "outlinewidth": 0,
              "ticks": ""
             }
            },
            "type": "scatterpolargl"
           }
          ],
          "scatterternary": [
           {
            "marker": {
             "colorbar": {
              "outlinewidth": 0,
              "ticks": ""
             }
            },
            "type": "scatterternary"
           }
          ],
          "surface": [
           {
            "colorbar": {
             "outlinewidth": 0,
             "ticks": ""
            },
            "colorscale": [
             [
              0,
              "#0d0887"
             ],
             [
              0.1111111111111111,
              "#46039f"
             ],
             [
              0.2222222222222222,
              "#7201a8"
             ],
             [
              0.3333333333333333,
              "#9c179e"
             ],
             [
              0.4444444444444444,
              "#bd3786"
             ],
             [
              0.5555555555555556,
              "#d8576b"
             ],
             [
              0.6666666666666666,
              "#ed7953"
             ],
             [
              0.7777777777777778,
              "#fb9f3a"
             ],
             [
              0.8888888888888888,
              "#fdca26"
             ],
             [
              1,
              "#f0f921"
             ]
            ],
            "type": "surface"
           }
          ],
          "table": [
           {
            "cells": {
             "fill": {
              "color": "#EBF0F8"
             },
             "line": {
              "color": "white"
             }
            },
            "header": {
             "fill": {
              "color": "#C8D4E3"
             },
             "line": {
              "color": "white"
             }
            },
            "type": "table"
           }
          ]
         },
         "layout": {
          "annotationdefaults": {
           "arrowcolor": "#2a3f5f",
           "arrowhead": 0,
           "arrowwidth": 1
          },
          "autotypenumbers": "strict",
          "coloraxis": {
           "colorbar": {
            "outlinewidth": 0,
            "ticks": ""
           }
          },
          "colorscale": {
           "diverging": [
            [
             0,
             "#8e0152"
            ],
            [
             0.1,
             "#c51b7d"
            ],
            [
             0.2,
             "#de77ae"
            ],
            [
             0.3,
             "#f1b6da"
            ],
            [
             0.4,
             "#fde0ef"
            ],
            [
             0.5,
             "#f7f7f7"
            ],
            [
             0.6,
             "#e6f5d0"
            ],
            [
             0.7,
             "#b8e186"
            ],
            [
             0.8,
             "#7fbc41"
            ],
            [
             0.9,
             "#4d9221"
            ],
            [
             1,
             "#276419"
            ]
           ],
           "sequential": [
            [
             0,
             "#0d0887"
            ],
            [
             0.1111111111111111,
             "#46039f"
            ],
            [
             0.2222222222222222,
             "#7201a8"
            ],
            [
             0.3333333333333333,
             "#9c179e"
            ],
            [
             0.4444444444444444,
             "#bd3786"
            ],
            [
             0.5555555555555556,
             "#d8576b"
            ],
            [
             0.6666666666666666,
             "#ed7953"
            ],
            [
             0.7777777777777778,
             "#fb9f3a"
            ],
            [
             0.8888888888888888,
             "#fdca26"
            ],
            [
             1,
             "#f0f921"
            ]
           ],
           "sequentialminus": [
            [
             0,
             "#0d0887"
            ],
            [
             0.1111111111111111,
             "#46039f"
            ],
            [
             0.2222222222222222,
             "#7201a8"
            ],
            [
             0.3333333333333333,
             "#9c179e"
            ],
            [
             0.4444444444444444,
             "#bd3786"
            ],
            [
             0.5555555555555556,
             "#d8576b"
            ],
            [
             0.6666666666666666,
             "#ed7953"
            ],
            [
             0.7777777777777778,
             "#fb9f3a"
            ],
            [
             0.8888888888888888,
             "#fdca26"
            ],
            [
             1,
             "#f0f921"
            ]
           ]
          },
          "colorway": [
           "#636efa",
           "#EF553B",
           "#00cc96",
           "#ab63fa",
           "#FFA15A",
           "#19d3f3",
           "#FF6692",
           "#B6E880",
           "#FF97FF",
           "#FECB52"
          ],
          "font": {
           "color": "#2a3f5f"
          },
          "geo": {
           "bgcolor": "white",
           "lakecolor": "white",
           "landcolor": "#E5ECF6",
           "showlakes": true,
           "showland": true,
           "subunitcolor": "white"
          },
          "hoverlabel": {
           "align": "left"
          },
          "hovermode": "closest",
          "mapbox": {
           "style": "light"
          },
          "paper_bgcolor": "white",
          "plot_bgcolor": "#E5ECF6",
          "polar": {
           "angularaxis": {
            "gridcolor": "white",
            "linecolor": "white",
            "ticks": ""
           },
           "bgcolor": "#E5ECF6",
           "radialaxis": {
            "gridcolor": "white",
            "linecolor": "white",
            "ticks": ""
           }
          },
          "scene": {
           "xaxis": {
            "backgroundcolor": "#E5ECF6",
            "gridcolor": "white",
            "gridwidth": 2,
            "linecolor": "white",
            "showbackground": true,
            "ticks": "",
            "zerolinecolor": "white"
           },
           "yaxis": {
            "backgroundcolor": "#E5ECF6",
            "gridcolor": "white",
            "gridwidth": 2,
            "linecolor": "white",
            "showbackground": true,
            "ticks": "",
            "zerolinecolor": "white"
           },
           "zaxis": {
            "backgroundcolor": "#E5ECF6",
            "gridcolor": "white",
            "gridwidth": 2,
            "linecolor": "white",
            "showbackground": true,
            "ticks": "",
            "zerolinecolor": "white"
           }
          },
          "shapedefaults": {
           "line": {
            "color": "#2a3f5f"
           }
          },
          "ternary": {
           "aaxis": {
            "gridcolor": "white",
            "linecolor": "white",
            "ticks": ""
           },
           "baxis": {
            "gridcolor": "white",
            "linecolor": "white",
            "ticks": ""
           },
           "bgcolor": "#E5ECF6",
           "caxis": {
            "gridcolor": "white",
            "linecolor": "white",
            "ticks": ""
           }
          },
          "title": {
           "x": 0.05
          },
          "xaxis": {
           "automargin": true,
           "gridcolor": "white",
           "linecolor": "white",
           "ticks": "",
           "title": {
            "standoff": 15
           },
           "zerolinecolor": "white",
           "zerolinewidth": 2
          },
          "yaxis": {
           "automargin": true,
           "gridcolor": "white",
           "linecolor": "white",
           "ticks": "",
           "title": {
            "standoff": 15
           },
           "zerolinecolor": "white",
           "zerolinewidth": 2
          }
         }
        },
        "title": {
         "text": "Динаміка дозвільних документів з/без кошторисної вартості"
        },
        "xaxis": {
         "anchor": "y",
         "domain": [
          0,
          1
         ],
         "title": {
          "text": "Дата"
         }
        },
        "yaxis": {
         "anchor": "x",
         "domain": [
          0,
          1
         ],
         "title": {
          "text": "Кількість документів"
         }
        }
       }
      }
     },
     "metadata": {},
     "output_type": "display_data"
    }
   ],
   "source": [
    "\n",
    "# 1. Перетворення дати\n",
    "df_selected[\"registration_date\"] = pd.to_datetime(df_selected[\"registration_date\"], format=\"%d.%m.%Y\", errors=\"coerce\")\n",
    "\n",
    "# 2. Позначка наявності вартості\n",
    "df_selected[\"has_cost\"] = df_selected[\"cost\"].notna()\n",
    "\n",
    "# 3. Групування по місяцях\n",
    "df_selected[\"week\"] = df_selected[\"registration_date\"].dt.to_period(\"W\").dt.to_timestamp()\n",
    "\n",
    "# 4. Підрахунок\n",
    "weekly_counts = (\n",
    "    df_selected\n",
    "    .groupby([\"week\", \"has_cost\"])\n",
    "    .size()\n",
    "    .reset_index(name=\"count\")\n",
    "    .replace({True: \"З вартістю\", False: \"Без вартості\"})\n",
    ")\n",
    "\n",
    "# 5. Побудова графіка\n",
    "fig = px.line(\n",
    "    weekly_counts,\n",
    "    x=\"week\",\n",
    "    y=\"count\",\n",
    "    color=\"has_cost\",\n",
    "    labels={\"week\": \"Дата\", \"count\": \"Кількість документів\", \"has_cost\": \"Наявність кошторису\"},\n",
    "    title=\"Динаміка дозвільних документів з/без кошторисної вартості\"\n",
    ")\n",
    "\n",
    "fig.show()\n"
   ]
  },
  {
   "cell_type": "markdown",
   "id": "152f8061",
   "metadata": {},
   "source": [
    "різниця є у типах відомостей про об'єкта та типах Дозвільного документу\n",
    "\n",
    "Динаміка дозвільни документів з/без кошторисної вартості однакова для обох випадків"
   ]
  },
  {
   "cell_type": "markdown",
   "id": "9ca55e23",
   "metadata": {},
   "source": [
    "## Mergind dataframes"
   ]
  },
  {
   "cell_type": "code",
   "execution_count": 28,
   "id": "b5129f1f",
   "metadata": {},
   "outputs": [],
   "source": [
    "# Перейменовуємо колонку у df_selected, щоб зручно зʼєднати\n",
    "df_selected = df_selected.rename(columns={\"first_tep\": \"doc_id\"})\n",
    "\n",
    "# З'єднуємо дозвільні дані до ТЕПів (тільки для наявних ТЕПів)\n",
    "df_teps_enriched = df_teps_cleaned.merge(\n",
    "    df_selected,\n",
    "    how=\"left\",\n",
    "    on=\"doc_id\"\n",
    ")\n"
   ]
  },
  {
   "cell_type": "code",
   "execution_count": 29,
   "id": "67dfe8a6",
   "metadata": {},
   "outputs": [
    {
     "data": {
      "text/html": [
       "<div>\n",
       "<style scoped>\n",
       "    .dataframe tbody tr th:only-of-type {\n",
       "        vertical-align: middle;\n",
       "    }\n",
       "\n",
       "    .dataframe tbody tr th {\n",
       "        vertical-align: top;\n",
       "    }\n",
       "\n",
       "    .dataframe thead th {\n",
       "        text-align: right;\n",
       "    }\n",
       "</style>\n",
       "<table border=\"1\" class=\"dataframe\">\n",
       "  <thead>\n",
       "    <tr style=\"text-align: right;\">\n",
       "      <th></th>\n",
       "      <th>Column</th>\n",
       "      <th>Non-Null %</th>\n",
       "    </tr>\n",
       "  </thead>\n",
       "  <tbody>\n",
       "    <tr>\n",
       "      <th>0</th>\n",
       "      <td>doc_id</td>\n",
       "      <td>100.00</td>\n",
       "    </tr>\n",
       "    <tr>\n",
       "      <th>1</th>\n",
       "      <td>object_name_tep</td>\n",
       "      <td>100.00</td>\n",
       "    </tr>\n",
       "    <tr>\n",
       "      <th>2</th>\n",
       "      <td>object_type_tep</td>\n",
       "      <td>100.00</td>\n",
       "    </tr>\n",
       "    <tr>\n",
       "      <th>3</th>\n",
       "      <td>main_type</td>\n",
       "      <td>100.00</td>\n",
       "    </tr>\n",
       "    <tr>\n",
       "      <th>4</th>\n",
       "      <td>document_status</td>\n",
       "      <td>100.00</td>\n",
       "    </tr>\n",
       "    <tr>\n",
       "      <th>5</th>\n",
       "      <td>document_type</td>\n",
       "      <td>100.00</td>\n",
       "    </tr>\n",
       "    <tr>\n",
       "      <th>6</th>\n",
       "      <td>client_name</td>\n",
       "      <td>100.00</td>\n",
       "    </tr>\n",
       "    <tr>\n",
       "      <th>7</th>\n",
       "      <td>registration_date</td>\n",
       "      <td>100.00</td>\n",
       "    </tr>\n",
       "    <tr>\n",
       "      <th>8</th>\n",
       "      <td>address</td>\n",
       "      <td>100.00</td>\n",
       "    </tr>\n",
       "    <tr>\n",
       "      <th>9</th>\n",
       "      <td>document_version</td>\n",
       "      <td>100.00</td>\n",
       "    </tr>\n",
       "    <tr>\n",
       "      <th>10</th>\n",
       "      <td>registration_number_edessb</td>\n",
       "      <td>100.00</td>\n",
       "    </tr>\n",
       "    <tr>\n",
       "      <th>11</th>\n",
       "      <td>has_cost</td>\n",
       "      <td>100.00</td>\n",
       "    </tr>\n",
       "    <tr>\n",
       "      <th>12</th>\n",
       "      <td>week</td>\n",
       "      <td>100.00</td>\n",
       "    </tr>\n",
       "    <tr>\n",
       "      <th>13</th>\n",
       "      <td>impact_class</td>\n",
       "      <td>100.00</td>\n",
       "    </tr>\n",
       "    <tr>\n",
       "      <th>14</th>\n",
       "      <td>construction_type</td>\n",
       "      <td>100.00</td>\n",
       "    </tr>\n",
       "    <tr>\n",
       "      <th>15</th>\n",
       "      <td>object_name</td>\n",
       "      <td>100.00</td>\n",
       "    </tr>\n",
       "    <tr>\n",
       "      <th>16</th>\n",
       "      <td>issuing_body</td>\n",
       "      <td>100.00</td>\n",
       "    </tr>\n",
       "    <tr>\n",
       "      <th>17</th>\n",
       "      <td>impact_class_main</td>\n",
       "      <td>100.00</td>\n",
       "    </tr>\n",
       "    <tr>\n",
       "      <th>18</th>\n",
       "      <td>submission_format</td>\n",
       "      <td>100.00</td>\n",
       "    </tr>\n",
       "    <tr>\n",
       "      <th>19</th>\n",
       "      <td>registration_status</td>\n",
       "      <td>100.00</td>\n",
       "    </tr>\n",
       "    <tr>\n",
       "      <th>20</th>\n",
       "      <td>construction_type_tep</td>\n",
       "      <td>99.99</td>\n",
       "    </tr>\n",
       "    <tr>\n",
       "      <th>21</th>\n",
       "      <td>construction_method</td>\n",
       "      <td>99.91</td>\n",
       "    </tr>\n",
       "    <tr>\n",
       "      <th>22</th>\n",
       "      <td>total_area_m2</td>\n",
       "      <td>97.28</td>\n",
       "    </tr>\n",
       "    <tr>\n",
       "      <th>23</th>\n",
       "      <td>cost</td>\n",
       "      <td>96.37</td>\n",
       "    </tr>\n",
       "    <tr>\n",
       "      <th>24</th>\n",
       "      <td>object_type</td>\n",
       "      <td>88.89</td>\n",
       "    </tr>\n",
       "    <tr>\n",
       "      <th>25</th>\n",
       "      <td>total_floors</td>\n",
       "      <td>85.84</td>\n",
       "    </tr>\n",
       "    <tr>\n",
       "      <th>26</th>\n",
       "      <td>build_footprint_area_m2</td>\n",
       "      <td>85.70</td>\n",
       "    </tr>\n",
       "    <tr>\n",
       "      <th>27</th>\n",
       "      <td>dkbs_code</td>\n",
       "      <td>76.40</td>\n",
       "    </tr>\n",
       "    <tr>\n",
       "      <th>28</th>\n",
       "      <td>living_area_m2</td>\n",
       "      <td>64.23</td>\n",
       "    </tr>\n",
       "    <tr>\n",
       "      <th>29</th>\n",
       "      <td>living_rooms_count</td>\n",
       "      <td>53.24</td>\n",
       "    </tr>\n",
       "    <tr>\n",
       "      <th>30</th>\n",
       "      <td>nonresidential_area_m2</td>\n",
       "      <td>51.73</td>\n",
       "    </tr>\n",
       "    <tr>\n",
       "      <th>31</th>\n",
       "      <td>building_height_m</td>\n",
       "      <td>42.14</td>\n",
       "    </tr>\n",
       "    <tr>\n",
       "      <th>32</th>\n",
       "      <td>building_volume_m3</td>\n",
       "      <td>25.81</td>\n",
       "    </tr>\n",
       "    <tr>\n",
       "      <th>33</th>\n",
       "      <td>construction_duration_months</td>\n",
       "      <td>21.08</td>\n",
       "    </tr>\n",
       "    <tr>\n",
       "      <th>34</th>\n",
       "      <td>underground_floors</td>\n",
       "      <td>19.60</td>\n",
       "    </tr>\n",
       "    <tr>\n",
       "      <th>35</th>\n",
       "      <td>lifetime_years</td>\n",
       "      <td>16.73</td>\n",
       "    </tr>\n",
       "    <tr>\n",
       "      <th>36</th>\n",
       "      <td>estimated_cost_uah</td>\n",
       "      <td>6.75</td>\n",
       "    </tr>\n",
       "    <tr>\n",
       "      <th>37</th>\n",
       "      <td>construction_type_passport</td>\n",
       "      <td>3.38</td>\n",
       "    </tr>\n",
       "  </tbody>\n",
       "</table>\n",
       "</div>"
      ],
      "text/plain": [
       "                          Column  Non-Null %\n",
       "0                         doc_id      100.00\n",
       "1                object_name_tep      100.00\n",
       "2                object_type_tep      100.00\n",
       "3                      main_type      100.00\n",
       "4                document_status      100.00\n",
       "5                  document_type      100.00\n",
       "6                    client_name      100.00\n",
       "7              registration_date      100.00\n",
       "8                        address      100.00\n",
       "9               document_version      100.00\n",
       "10    registration_number_edessb      100.00\n",
       "11                      has_cost      100.00\n",
       "12                          week      100.00\n",
       "13                  impact_class      100.00\n",
       "14             construction_type      100.00\n",
       "15                   object_name      100.00\n",
       "16                  issuing_body      100.00\n",
       "17             impact_class_main      100.00\n",
       "18             submission_format      100.00\n",
       "19           registration_status      100.00\n",
       "20         construction_type_tep       99.99\n",
       "21           construction_method       99.91\n",
       "22                 total_area_m2       97.28\n",
       "23                          cost       96.37\n",
       "24                   object_type       88.89\n",
       "25                  total_floors       85.84\n",
       "26       build_footprint_area_m2       85.70\n",
       "27                     dkbs_code       76.40\n",
       "28                living_area_m2       64.23\n",
       "29            living_rooms_count       53.24\n",
       "30        nonresidential_area_m2       51.73\n",
       "31             building_height_m       42.14\n",
       "32            building_volume_m3       25.81\n",
       "33  construction_duration_months       21.08\n",
       "34            underground_floors       19.60\n",
       "35                lifetime_years       16.73\n",
       "36            estimated_cost_uah        6.75\n",
       "37    construction_type_passport        3.38"
      ]
     },
     "execution_count": 29,
     "metadata": {},
     "output_type": "execute_result"
    }
   ],
   "source": [
    "# Calculate non-null percentage for each column\n",
    "percentages = {\n",
    "    col: round(df_teps_enriched[col].notna().sum() / df_teps_enriched.shape[0] * 100, 2)\n",
    "    for col in df_teps_enriched.columns\n",
    "}\n",
    "# Convert to DataFrame and sort\n",
    "percent_df = (\n",
    "    pd.DataFrame(percentages.items(), columns=[\"Column\", \"Non-Null %\"])\n",
    "    .sort_values(by=\"Non-Null %\", ascending=False)\n",
    "    .reset_index(drop=True)\n",
    ")\n",
    "percent_df.head(60)\n"
   ]
  },
  {
   "cell_type": "code",
   "execution_count": 30,
   "id": "f7972b98",
   "metadata": {},
   "outputs": [],
   "source": [
    "percent_df.to_csv('df_teps_enriched_perc.csv')"
   ]
  },
  {
   "cell_type": "code",
   "execution_count": 31,
   "id": "5304f8ee",
   "metadata": {},
   "outputs": [],
   "source": [
    "df_teps_enriched.dropna(subset='cost', inplace=True)"
   ]
  },
  {
   "cell_type": "markdown",
   "id": "effa8659",
   "metadata": {},
   "source": [
    "витягуємо адресу"
   ]
  },
  {
   "cell_type": "code",
   "execution_count": 32,
   "id": "8451106a",
   "metadata": {},
   "outputs": [],
   "source": [
    "# Список міст з населенням понад 100 тис.\n",
    "big_cities_raw = \"\"\"\n",
    "Київ, Харків, Дніпро, Одеса, Донецьк, Запоріжжя, Львів, Кривий Ріг, Миколаїв, Маріуполь,\n",
    "Луганськ, Макіївка, Вінниця, Сімферополь, Севастополь, Херсон, Полтава, Чернігів, Черкаси,\n",
    "Суми, Горлівка, Хмельницький, Житомир, Кам'янське, Кропивницький, Рівне, Чернівці, Кременчук,\n",
    "Тернопіль, Івано-Франківськ, Луцьк, Біла Церква, Краматорськ, Мелітополь, Керч, Нікополь,\n",
    "Слов'янськ, Бердянськ, Сіверськодонецьк, Алчевськ, Павлоград, Ужгород\n",
    "\"\"\"\n",
    "\n",
    "# Очистимо список і збережемо у CSV\n",
    "big_cities = [city.strip() for city in big_cities_raw.split(\",\") if city.strip()]\n",
    "df_big_cities = pd.DataFrame(big_cities, columns=[\"city\"])"
   ]
  },
  {
   "cell_type": "code",
   "execution_count": 33,
   "id": "401862a5",
   "metadata": {},
   "outputs": [],
   "source": [
    "def split_address_parts(addr: str) -> dict:\n",
    "    if pd.isna(addr):\n",
    "        return {\"region\": None, \"district\": None, \"settlement\": None, \"is_small\": None, \"is_big_city\": None}\n",
    "\n",
    "    # 1. Прибрати вставки у дужках\n",
    "    addr = re.sub(r\"\\(.*?\\)\", \"\", addr).strip()\n",
    "\n",
    "    # 2. Розбити\n",
    "    parts = [p.strip() for p in addr.split(\",\") if p.strip()]\n",
    "    region = next((p for p in parts if \"обл.\" in p or \"м. Київ\" in p or \"м. Севастополь\" in p), None)\n",
    "    district = next((p for p in parts if \"район\" in p), None)\n",
    "\n",
    "    # 3. Населений пункт\n",
    "    settlement = next((p for p in parts if re.search(r\"\\b[см]\\. \", p)), None)\n",
    "    if not settlement:\n",
    "        # fallback: останній компонент\n",
    "        settlement = parts[-1] if parts else None\n",
    "\n",
    "    # 4. Витяг імені населеного пункту без префіксів (\"с.\", \"м.\" тощо)\n",
    "    core_name_match = re.search(r\"(?:[см]\\. )?([\\wʼ’ІіЄєЇїҐґА-Яа-я\\-ʼ ]+)\", settlement or \"\")\n",
    "    core_name = core_name_match.group(1).strip() if core_name_match else None\n",
    "\n",
    "    # 5. Ознака \"велике місто\"\n",
    "    is_big_city = core_name in big_cities\n",
    "\n",
    "    # 6. Ознака \"маленьке місто\"\n",
    "    is_small = any([\n",
    "        \"громада\" in addr.lower(),\n",
    "        \"с.\" in addr.lower(),\n",
    "        \"смт\" in addr.lower(),\n",
    "        \"ОТГ\" in addr,\n",
    "        \"територіальна громада\" in addr.lower()\n",
    "    ]) and not is_big_city\n",
    "\n",
    "    return {\n",
    "        \"region\": region,\n",
    "        \"district\": district,\n",
    "        \"settlement\": core_name,\n",
    "        \"is_small\": is_small,\n",
    "        \"is_big_city\": is_big_city\n",
    "    }\n"
   ]
  },
  {
   "cell_type": "code",
   "execution_count": 34,
   "id": "c9cb79e3",
   "metadata": {},
   "outputs": [
    {
     "data": {
      "text/plain": [
       "{'region': 'Львівська обл.',\n",
       " 'district': 'Шептицький район',\n",
       " 'settlement': 'Бутини',\n",
       " 'is_small': True,\n",
       " 'is_big_city': False}"
      ]
     },
     "execution_count": 34,
     "metadata": {},
     "output_type": "execute_result"
    }
   ],
   "source": [
    "split_address_parts(df_teps_enriched['address'][33333])"
   ]
  },
  {
   "cell_type": "code",
   "execution_count": 35,
   "id": "75556282",
   "metadata": {},
   "outputs": [],
   "source": [
    "address_parts = df_teps_enriched[\"address\"].apply(split_address_parts).apply(pd.Series)\n",
    "df_teps_enriched = pd.concat([df_teps_enriched, address_parts], axis=1)"
   ]
  },
  {
   "cell_type": "code",
   "execution_count": 36,
   "id": "e6443fb2",
   "metadata": {},
   "outputs": [
    {
     "name": "stdout",
     "output_type": "stream",
     "text": [
      "Big city documents 9825\n",
      "Small city documents 32838\n"
     ]
    }
   ],
   "source": [
    "print(f\"Big city documents {df_teps_enriched.is_big_city.sum()}\")\n",
    "print(f\"Small city documents {df_teps_enriched.is_small.sum()}\")"
   ]
  },
  {
   "cell_type": "markdown",
   "id": "2dc982c2",
   "metadata": {},
   "source": [
    "## EDA"
   ]
  },
  {
   "cell_type": "code",
   "execution_count": 42,
   "id": "c0f643ef",
   "metadata": {},
   "outputs": [
    {
     "data": {
      "text/plain": [
       "dkbs_code\n",
       "1110.3 Будинки садибного типу                  22040\n",
       "NaN                                             9749\n",
       "1110.4 Будинки дачні та садові                  3659\n",
       "1230.1 Торгові центри, універмаги, магазини     1158\n",
       "1230.9 Будівлі торговельні інші                  752\n",
       "Name: count, dtype: int64"
      ]
     },
     "execution_count": 42,
     "metadata": {},
     "output_type": "execute_result"
    }
   ],
   "source": [
    "df_teps_enriched['dkbs_code'].value_counts(dropna=False, normalize=False).head(5)"
   ]
  },
  {
   "cell_type": "code",
   "execution_count": 38,
   "id": "682a9c5c",
   "metadata": {},
   "outputs": [
    {
     "data": {
      "text/plain": [
       "object_type_tep\n",
       "Житловий будинок садибного типу                                        0.530557\n",
       "Будівля                                                                0.187187\n",
       "Садовий будинок                                                        0.083025\n",
       "Приміщення (група приміщень)                                           0.046515\n",
       "Квартира                                                               0.044242\n",
       "Будинок                                                                0.034096\n",
       "Група будівель/споруд                                                  0.019356\n",
       "Лінійний об’єкт інженерно-транспортної інфраструктури                  0.017013\n",
       "Споруда                                                                0.012115\n",
       "Комплекс (будова)                                                      0.012068\n",
       "Дачний будинок                                                         0.006866\n",
       "Гаражний бокс                                                          0.002906\n",
       "Група відокремлених приміщень                                          0.002531\n",
       "Об'єкт благоустрою                                                     0.001008\n",
       "Конструктивна частина                                                  0.000281\n",
       "Рівень/поверх                                                          0.000117\n",
       "Машиномісце/паркомісце                                                 0.000047\n",
       "Кімната                                                                0.000023\n",
       "Приналежна річ                                                         0.000023\n",
       "Приміщення (місця) загального користування (у тому числі допоміжні)    0.000023\n",
       "Name: proportion, dtype: float64"
      ]
     },
     "execution_count": 38,
     "metadata": {},
     "output_type": "execute_result"
    }
   ],
   "source": [
    "df_teps_enriched['object_type_tep'].value_counts(dropna=False, normalize=True)"
   ]
  },
  {
   "cell_type": "markdown",
   "id": "db7d9f4c",
   "metadata": {},
   "source": [
    "## Гіпотези"
   ]
  },
  {
   "cell_type": "markdown",
   "id": "6b72b4db",
   "metadata": {},
   "source": [
    "### [H1] Реальна вартість будівництва об’єктів за державні кошти більша ніж за приватні."
   ]
  },
  {
   "cell_type": "markdown",
   "id": "d62b2f33",
   "metadata": {},
   "source": [
    "неможливо перевірити за чиї кошти будувався об'єкт"
   ]
  },
  {
   "cell_type": "markdown",
   "id": "e620ac5c",
   "metadata": {},
   "source": [
    "### [H2] У невеликих громадах будівництво аналогічних об'єктів обходиться дорожче в 2-3 рази."
   ]
  },
  {
   "cell_type": "code",
   "execution_count": 39,
   "id": "141affe0",
   "metadata": {},
   "outputs": [
    {
     "data": {
      "text/html": [
       "<div>\n",
       "<style scoped>\n",
       "    .dataframe tbody tr th:only-of-type {\n",
       "        vertical-align: middle;\n",
       "    }\n",
       "\n",
       "    .dataframe tbody tr th {\n",
       "        vertical-align: top;\n",
       "    }\n",
       "\n",
       "    .dataframe thead tr th {\n",
       "        text-align: left;\n",
       "    }\n",
       "\n",
       "    .dataframe thead tr:last-of-type th {\n",
       "        text-align: right;\n",
       "    }\n",
       "</style>\n",
       "<table border=\"1\" class=\"dataframe\">\n",
       "  <thead>\n",
       "    <tr>\n",
       "      <th></th>\n",
       "      <th colspan=\"2\" halign=\"left\">median_cost_per_m2</th>\n",
       "      <th colspan=\"2\" halign=\"left\">count</th>\n",
       "      <th>cost_ratio</th>\n",
       "    </tr>\n",
       "    <tr>\n",
       "      <th>is_small</th>\n",
       "      <th>False</th>\n",
       "      <th>True</th>\n",
       "      <th>False</th>\n",
       "      <th>True</th>\n",
       "      <th>small_vs_big</th>\n",
       "    </tr>\n",
       "    <tr>\n",
       "      <th>dkbs_code</th>\n",
       "      <th></th>\n",
       "      <th></th>\n",
       "      <th></th>\n",
       "      <th></th>\n",
       "      <th></th>\n",
       "    </tr>\n",
       "  </thead>\n",
       "  <tbody>\n",
       "    <tr>\n",
       "      <th>1110.3 Будинки садибного типу</th>\n",
       "      <td>5.729107</td>\n",
       "      <td>6.912281</td>\n",
       "      <td>2716.0</td>\n",
       "      <td>19231.0</td>\n",
       "      <td>1.206520</td>\n",
       "    </tr>\n",
       "    <tr>\n",
       "      <th>1110.4 Будинки дачні та садові</th>\n",
       "      <td>7.142857</td>\n",
       "      <td>7.501225</td>\n",
       "      <td>378.0</td>\n",
       "      <td>3275.0</td>\n",
       "      <td>1.050172</td>\n",
       "    </tr>\n",
       "    <tr>\n",
       "      <th>1230.1 Торгові центри, універмаги, магазини</th>\n",
       "      <td>9.289279</td>\n",
       "      <td>8.649763</td>\n",
       "      <td>345.0</td>\n",
       "      <td>808.0</td>\n",
       "      <td>0.931156</td>\n",
       "    </tr>\n",
       "    <tr>\n",
       "      <th>1230.9 Будівлі торговельні інші</th>\n",
       "      <td>8.424600</td>\n",
       "      <td>7.607144</td>\n",
       "      <td>215.0</td>\n",
       "      <td>534.0</td>\n",
       "      <td>0.902968</td>\n",
       "    </tr>\n",
       "    <tr>\n",
       "      <th>1242.1 Гаражі наземні</th>\n",
       "      <td>4.311581</td>\n",
       "      <td>5.399543</td>\n",
       "      <td>128.0</td>\n",
       "      <td>490.0</td>\n",
       "      <td>1.252335</td>\n",
       "    </tr>\n",
       "    <tr>\n",
       "      <th>1122.1 Будинки багатоквартирні масової забудови</th>\n",
       "      <td>9.214659</td>\n",
       "      <td>7.373176</td>\n",
       "      <td>226.0</td>\n",
       "      <td>243.0</td>\n",
       "      <td>0.800157</td>\n",
       "    </tr>\n",
       "    <tr>\n",
       "      <th>1263.3 Будівлі шкіл та інших середніх навчальних закладів</th>\n",
       "      <td>7.579660</td>\n",
       "      <td>15.924208</td>\n",
       "      <td>90.0</td>\n",
       "      <td>240.0</td>\n",
       "      <td>2.100913</td>\n",
       "    </tr>\n",
       "    <tr>\n",
       "      <th>1252.8 Склади універсальні</th>\n",
       "      <td>5.859347</td>\n",
       "      <td>6.059286</td>\n",
       "      <td>84.0</td>\n",
       "      <td>200.0</td>\n",
       "      <td>1.034123</td>\n",
       "    </tr>\n",
       "    <tr>\n",
       "      <th>1271.9 Будівлі сільськогосподарського призначення інші</th>\n",
       "      <td>7.440660</td>\n",
       "      <td>4.571830</td>\n",
       "      <td>5.0</td>\n",
       "      <td>147.0</td>\n",
       "      <td>0.614439</td>\n",
       "    </tr>\n",
       "    <tr>\n",
       "      <th>1230.3 Станції технічного обслуговування автомобілів</th>\n",
       "      <td>3.532871</td>\n",
       "      <td>8.457924</td>\n",
       "      <td>82.0</td>\n",
       "      <td>115.0</td>\n",
       "      <td>2.394065</td>\n",
       "    </tr>\n",
       "    <tr>\n",
       "      <th>1252.9 Склади та сховища інші</th>\n",
       "      <td>8.425836</td>\n",
       "      <td>4.011281</td>\n",
       "      <td>52.0</td>\n",
       "      <td>107.0</td>\n",
       "      <td>0.476069</td>\n",
       "    </tr>\n",
       "    <tr>\n",
       "      <th>1122.2 Будинки багатоквартирні підвищеної комфортності, індивідуальні</th>\n",
       "      <td>9.647680</td>\n",
       "      <td>4.951395</td>\n",
       "      <td>111.0</td>\n",
       "      <td>105.0</td>\n",
       "      <td>0.513221</td>\n",
       "    </tr>\n",
       "  </tbody>\n",
       "</table>\n",
       "</div>"
      ],
      "text/plain": [
       "                                                   median_cost_per_m2  \\\n",
       "is_small                                                        False   \n",
       "dkbs_code                                                               \n",
       "1110.3 Будинки садибного типу                                5.729107   \n",
       "1110.4 Будинки дачні та садові                               7.142857   \n",
       "1230.1 Торгові центри, універмаги, магазини                  9.289279   \n",
       "1230.9 Будівлі торговельні інші                              8.424600   \n",
       "1242.1 Гаражі наземні                                        4.311581   \n",
       "1122.1 Будинки багатоквартирні масової забудови              9.214659   \n",
       "1263.3 Будівлі шкіл та інших середніх навчальни...           7.579660   \n",
       "1252.8 Склади універсальні                                   5.859347   \n",
       "1271.9 Будівлі сільськогосподарського призначен...           7.440660   \n",
       "1230.3 Станції технічного обслуговування автомо...           3.532871   \n",
       "1252.9 Склади та сховища інші                                8.425836   \n",
       "1122.2 Будинки багатоквартирні підвищеної комфо...           9.647680   \n",
       "\n",
       "                                                                count  \\\n",
       "is_small                                                 True   False   \n",
       "dkbs_code                                                               \n",
       "1110.3 Будинки садибного типу                        6.912281  2716.0   \n",
       "1110.4 Будинки дачні та садові                       7.501225   378.0   \n",
       "1230.1 Торгові центри, універмаги, магазини          8.649763   345.0   \n",
       "1230.9 Будівлі торговельні інші                      7.607144   215.0   \n",
       "1242.1 Гаражі наземні                                5.399543   128.0   \n",
       "1122.1 Будинки багатоквартирні масової забудови      7.373176   226.0   \n",
       "1263.3 Будівлі шкіл та інших середніх навчальни...  15.924208    90.0   \n",
       "1252.8 Склади універсальні                           6.059286    84.0   \n",
       "1271.9 Будівлі сільськогосподарського призначен...   4.571830     5.0   \n",
       "1230.3 Станції технічного обслуговування автомо...   8.457924    82.0   \n",
       "1252.9 Склади та сховища інші                        4.011281    52.0   \n",
       "1122.2 Будинки багатоквартирні підвищеної комфо...   4.951395   111.0   \n",
       "\n",
       "                                                              cost_ratio  \n",
       "is_small                                               True small_vs_big  \n",
       "dkbs_code                                                                 \n",
       "1110.3 Будинки садибного типу                       19231.0     1.206520  \n",
       "1110.4 Будинки дачні та садові                       3275.0     1.050172  \n",
       "1230.1 Торгові центри, універмаги, магазини           808.0     0.931156  \n",
       "1230.9 Будівлі торговельні інші                       534.0     0.902968  \n",
       "1242.1 Гаражі наземні                                 490.0     1.252335  \n",
       "1122.1 Будинки багатоквартирні масової забудови       243.0     0.800157  \n",
       "1263.3 Будівлі шкіл та інших середніх навчальни...    240.0     2.100913  \n",
       "1252.8 Склади універсальні                            200.0     1.034123  \n",
       "1271.9 Будівлі сільськогосподарського призначен...    147.0     0.614439  \n",
       "1230.3 Станції технічного обслуговування автомо...    115.0     2.394065  \n",
       "1252.9 Склади та сховища інші                         107.0     0.476069  \n",
       "1122.2 Будинки багатоквартирні підвищеної комфо...    105.0     0.513221  "
      ]
     },
     "execution_count": 39,
     "metadata": {},
     "output_type": "execute_result"
    }
   ],
   "source": [
    "# 1. Розрахунок вартості за м²\n",
    "df_teps_enriched[\"cost_per_m2\"] = pd.to_numeric(df_teps_enriched[\"cost\"], errors=\"coerce\") / pd.to_numeric(df_teps_enriched[\"total_area_m2\"], errors=\"coerce\")\n",
    "\n",
    "# 2. Відбір валідних значень\n",
    "df_valid = df_teps_enriched[\n",
    "    (df_teps_enriched[\"cost_per_m2\"] > 0) &\n",
    "    (~df_teps_enriched[\"is_small\"].isna())\n",
    "]\n",
    "\n",
    "# 3. Групування за типом обʼєкта та масштабом громади\n",
    "summary = (\n",
    "    df_valid\n",
    "    .groupby([\"dkbs_code\", \"is_small\"])\n",
    "    .agg(\n",
    "        median_cost_per_m2=(\"cost_per_m2\", \"median\"),\n",
    "        count=(\"cost_per_m2\", \"count\")\n",
    "    )\n",
    "    .unstack()\n",
    ")\n",
    "\n",
    "# 4. Додатково — коефіцієнт різниці (малі / великі)\n",
    "summary[(\"cost_ratio\", \"small_vs_big\")] = summary[(\"median_cost_per_m2\", True)] / summary[(\"median_cost_per_m2\", False)]\n",
    "\n",
    "# Фільтруємо по count у малих або великих громадах\n",
    "filtered = summary[\n",
    "    (summary[(\"count\", True)] > 100) | (summary[(\"count\", False)] > 100)\n",
    "]\n",
    "\n",
    "filtered.sort_values(by=[(\"count\", True), (\"count\", False)], ascending=False)"
   ]
  },
  {
   "cell_type": "markdown",
   "id": "93c93e18",
   "metadata": {},
   "source": [
    "**1263.3 Будівлі шкіл та інших середніх навчальних закладів** дорожче у великих містах так само як і **1230.3 Станції технічного обслуговування автомобілів**\n",
    "\n",
    "**1252.9 Склади та сховища інші** та **1122.2 Будинки багатоквартирні підвищеної комфортності, індивідуальні** дешевші"
   ]
  },
  {
   "cell_type": "markdown",
   "id": "b2c92f5c",
   "metadata": {},
   "source": [
    "### [H4] Є об'єкти з підозріло коротким терміном реалізації (≤2 міс.) при високій вартості — можливі фіктивні проєкти."
   ]
  },
  {
   "cell_type": "markdown",
   "id": "963f1055",
   "metadata": {},
   "source": [
    "Термін реаліації відсутній у багатьох об'єктах"
   ]
  },
  {
   "cell_type": "markdown",
   "id": "59d24997",
   "metadata": {},
   "source": [
    "### [H5] Ціна за м² знижується або зростає з більшою кількістю поверхів (аналіз економії масштабу)."
   ]
  },
  {
   "cell_type": "markdown",
   "id": "352f1332",
   "metadata": {},
   "source": [
    "### [H6] Об'єкти, що будуються “господарським способом”, мають системно нижчу вартість, ніж підрядні."
   ]
  },
  {
   "cell_type": "markdown",
   "id": "94940a35",
   "metadata": {},
   "source": [
    "### [H7] У Києві/обласних центрах — вища ціна за м², ніж у райцентрах або сільській місцевості."
   ]
  },
  {
   "cell_type": "markdown",
   "id": "adee595f",
   "metadata": {},
   "source": [
    "### [H8] Будівництво у прикордонних регіонах (Херсон, Суми, Чернігів) демонструє аномалії у вартості та темпах"
   ]
  },
  {
   "cell_type": "markdown",
   "id": "ab288058",
   "metadata": {},
   "source": [
    "### [H10] Кількість поверхів ≠ 1, але “загальна площа” дуже мала — можливе дроблення або помилки."
   ]
  },
  {
   "cell_type": "markdown",
   "id": "b5e31833",
   "metadata": {},
   "source": [
    "### [H11] Для об'єктів з ДКБС-кодом, що мають виробниче або енергетичне призначення — середня вартість суттєво відрізняється."
   ]
  },
  {
   "cell_type": "markdown",
   "id": "c546b9c1",
   "metadata": {},
   "source": [
    "### [H12] Торгові приміщення (магазини) мають вартість м² близьку до житлових, але з коротшими термінами будівництва."
   ]
  },
  {
   "cell_type": "markdown",
   "id": "2cc191f8",
   "metadata": {},
   "source": [
    "### [H13] Підозрілі об'єкти мають: високу вартість, короткий термін, багато “нулів” у ТЕП, нульову корисну площу або 0 поверхів."
   ]
  },
  {
   "cell_type": "markdown",
   "id": "22342210",
   "metadata": {},
   "source": [
    "### [H14] Найбільш аномальні об'єкти зустрічаються серед приватних замовників, а не держорганів."
   ]
  }
 ],
 "metadata": {
  "kernelspec": {
   "display_name": ".venv",
   "language": "python",
   "name": "python3"
  },
  "language_info": {
   "codemirror_mode": {
    "name": "ipython",
    "version": 3
   },
   "file_extension": ".py",
   "mimetype": "text/x-python",
   "name": "python",
   "nbconvert_exporter": "python",
   "pygments_lexer": "ipython3",
   "version": "3.10.9"
  }
 },
 "nbformat": 4,
 "nbformat_minor": 5
}
